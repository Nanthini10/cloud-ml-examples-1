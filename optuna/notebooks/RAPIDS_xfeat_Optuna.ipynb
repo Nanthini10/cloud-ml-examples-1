{
 "cells": [
  {
   "cell_type": "markdown",
   "metadata": {},
   "source": [
    "# Improving model performance with xfeat, RAPIDS and Optuna\n",
    "\n",
    "\n",
    "## Introduction\n",
    "\n",
    "Feature Engineering is the processing of transforming raw data into features that can represent the underlying patterns of the data better. They can help boost accuracy by a great deal and improve the ability of the model to generalise on unseen data. Every data scientist knows the importance of feature engineering. Spending some time thinking about how best to apply and combine the available features can be very meaningful.\n",
    "\n",
    "Hyper parameter Optimisation is another such process which can help complement a good model by tuning it's hyperparameters, which can have a tremendous impact on the accuracy of the model. \n",
    "\n",
    "The time and resources required for these processes are generally the reason they're overlooked. With xfeat, RAPIDS and Optuna - we aim to bridge these gaps and elevate the performance.\n",
    "\n",
    "\n",
    "## What is Optuna?\n",
    "[Optuna](https://github.com/optuna/optuna) is a lightweight framework for automatic hyperparameter optimization. It provides a define-by-run API, which makes it easy to adapt to any already existing code that we have and enables high modularity and the flexibility to construct hyperparameter spaces dynamically. By simply wrapping the objective function with Optuna can help perform a parallel-distributed HPO search over a search space. As we'll see in this notebook.\n",
    "\n",
    "\n",
    "## What is xfeat?\n",
    "[xfeat](https://github.com/pfnet-research/xfeat) is a feature engineering & exploration library using GPUs and Optuna. It provides a scikit-learn-like API for feature engineering with support for Pandas, cuDF data frames and cuPy arrays.\n",
    "\n",
    "## What is RAPIDS?\n",
    "[RAPIDS](https://rapids.ai/about.html) framework provides a library suite that can execute end-to-end data science pipelines entirely on GPUs. The libraries in the framework include [cuDF](https://github.com/rapidsai/cudf) - a GPU Dataframe with pandas-like API, [cuML](https://github.com/rapidsai/cuml) - implement machine learning algorithms that provide a scikit-learn-like API and many more. You can learn more [here](https://github.com/rapidsai).\n",
    "\n",
    "In this notebook, we'll show how one can use these tools together to develop and improve a machine learning model. We'll use Airlines dataset (20M rows) to predict if a flight will be delayed or not. We'll explore how to use Optuna with RAPIDS and the speedups that we can achieve with the integration of these, and to see the improvements with GPU speedups, we ran the experiment on the CPU and included the table summarizing the results at the end of the notebook.\n",
    "\n",
    "### Pre-requisites\n",
    "\n",
    "Version requirements:\n",
    "- RAPIDS libraries (cuDF, cuML) > 0.15\n",
    "\n",
    "Run the cell below to install the packages"
   ]
  },
  {
   "cell_type": "code",
   "execution_count": 1,
   "metadata": {},
   "outputs": [],
   "source": [
    "# !pip install optuna\n",
    "# !pip install plotly\n",
    "# !pip install kaleido\n",
    "# !pip install xfeat"
   ]
  },
  {
   "cell_type": "code",
   "execution_count": 2,
   "metadata": {},
   "outputs": [],
   "source": [
    "import time\n",
    "import json\n",
    "import requests\n",
    "import logging\n",
    "\n",
    "import numpy as np\n",
    "\n",
    "import cupy\n",
    "import cudf\n",
    "import cuml\n",
    "from cuml import LogisticRegression\n",
    "from cuml.metrics import roc_auc_score\n",
    "from cuml.preprocessing.model_selection import train_test_split\n",
    "\n",
    "\n",
    "import optuna\n",
    "from optuna.study import StudyDirection\n",
    "from optuna.trial import TrialState\n",
    "from optuna import type_checking\n",
    "\n",
    "import xfeat\n",
    "from xfeat.pipeline import Pipeline\n",
    "from xfeat.num_encoder import SelectNumerical\n",
    "from xfeat.selector import ChiSquareKBest\n",
    "from xfeat.optuna_selector import KBestThresholdExplorer\n",
    "from functools import partial\n",
    "\n",
    "import sklearn\n",
    "from sklearn.model_selection import KFold\n",
    "import pandas as pd\n",
    "\n",
    "\n",
    "from cuml.preprocessing.LabelEncoder import LabelEncoder\n",
    "from cuml.preprocessing.TargetEncoder import TargetEncoder\n",
    "from xfeat import ArithmeticCombinations, Pipeline, SelectNumerical"
   ]
  },
  {
   "cell_type": "code",
   "execution_count": 3,
   "metadata": {},
   "outputs": [],
   "source": [
    "import time\n",
    "from contextlib import contextmanager\n",
    "# Helping time blocks of code\n",
    "@contextmanager\n",
    "def timed(txt):\n",
    "    t0 = time.time()\n",
    "    yield\n",
    "    t1 = time.time()\n",
    "    print(\"%32s time:  %8.5f\" % (txt, t1 - t0))"
   ]
  },
  {
   "cell_type": "markdown",
   "metadata": {},
   "source": [
    "# Loading the data\n",
    "## Data Acquisition\n",
    "Dataset can be acquired from Kaggle: [BNP Paribas Cardif Claims Management](https://www.kaggle.com/c/bnp-paribas-cardif-claims-management/data). It is an anonymized dataset containing categorical and numerical values for claims received by BNP Paribas Cardif.  The \"target\" column in the train set is the variable to predict. It is equal to 1 for claims suitable for an accelerated approval. The \n",
    "\n",
    "Change the `data_dir` to correspond the where you've downloaded the data."
   ]
  },
  {
   "cell_type": "code",
   "execution_count": 4,
   "metadata": {},
   "outputs": [],
   "source": [
    "import os\n",
    "\n",
    "file_name = 'train.csv' \n",
    "\n",
    "data_dir = \"/home/data/bnp-paribas/\" # NOTE: Change to a local path where you want to save the file\n",
    "INPUT_FILE = os.path.join(data_dir, file_name)"
   ]
  },
  {
   "cell_type": "markdown",
   "metadata": {},
   "source": [
    "### Feature Engineering\n",
    "\n",
    "The following functions are defined to perform a few feature engineering tasks on the data. The `feature_engineering` function is called on the dataframe df, in this function we perform Label and Target Encoding on the categorical columns using cuML functions, and Arithmetic Combinations on the numerical columns using xfeat. The Arithmetic Operation performed here is addition on two columns at once. We specify the operator and r, which is used to indicate how many columns need to be combined.\n",
    "\n",
    "You'll also notice we use `Pipeline` from xfeat to combine two or more feature engineering tasks together. This is useful to concatenate encoders sequentially.\n",
    "\n",
    "Read more about Feature Encoding and Pipelining with xfeat [here](https://github.com/pfnet-research/xfeat/blob/master/_docs/feature_encoding.md)."
   ]
  },
  {
   "cell_type": "code",
   "execution_count": 5,
   "metadata": {},
   "outputs": [],
   "source": [
    "def feature_engineering(df):\n",
    "    \"\"\"\n",
    "    Perform feature engineering and return a new df with engineered features\n",
    "    \"\"\"\n",
    "    df_train, df_test, y_train, y_test = train_test_split(df, TARGET_COL,random_state=np.random.seed(0),\n",
    "                                                          shuffle=True)\n",
    " \n",
    "    # Xfeat's internal fold mechanism creates RangeIndex references, so we need to do an index reset on our data frames.\n",
    "    df_train = df_train.reset_index(drop=True)\n",
    "    df_test = df_test.reset_index(drop=True)\n",
    "    y_train = y_train.reset_index(drop=True)\n",
    "    y_test = y_test.reset_index(drop=True)\n",
    "    \n",
    "    # Need to do this to ensure we are appropriately assigning the split values\n",
    "    df_train[TARGET_COL] = y_train\n",
    "    df_test[TARGET_COL] = y_test\n",
    "    \n",
    "    \n",
    "    for col in CAT_COLS:\n",
    "        out_col = f'{col}_TE'\n",
    "        lbl_enc = LabelEncoder(handle_unknown='ignore')\n",
    "        tar_enc = TargetEncoder(n_folds=5, smooth=TARGET_ENC_SMOOTH, split_method=TARGET_ENC_SPLIT)\n",
    "        \n",
    "        df_train[col] = lbl_enc.fit_transform(df_train[col])\n",
    "        df_train[out_col] = tar_enc.fit_transform(df_train[col], df_train[TARGET_COL])\n",
    "        \n",
    "        df_test[out_col] = tar_enc.transform(df_test[col])\n",
    "        df_test[col] = lbl_enc.transform(df_test[col]).fillna(0)\n",
    "        del lbl_enc, tar_enc\n",
    "\n",
    "\n",
    "\n",
    "    encoder = Pipeline([\n",
    "                        SelectNumerical(),\n",
    "                        ArithmeticCombinations(exclude_cols=[TARGET_COL],\n",
    "                                               drop_origin=False,\n",
    "                                               operator=\"+\",\n",
    "                                               r=2,\n",
    "                                               output_suffix=\"_plus\")\n",
    "                    ])\n",
    "\n",
    "    df_train = encoder.fit_transform(df_train)\n",
    "    df_test = encoder.transform(df_test)\n",
    "    df = cudf.concat([df_train, df_test], sort=False)\n",
    "\n",
    "    return df"
   ]
  },
  {
   "cell_type": "markdown",
   "metadata": {},
   "source": [
    "### Feature Selection and Hyper parameter Optimisation\n",
    "\n",
    "Now that we have some new features, how do we know they are relevant for the task or represent anything meaningful? We use the feature selection process to do this. This helps in selection of a subset of features that are most informative. This helps in simplifying the problem and ensures that we aren't overloading the system with unimportant features. \n",
    "\n",
    "Optuna provides a way to choose a selector which accepts a `Pipeline` object from xfeat. You can see in the `feature_selection` function we define a `Pipeline` that takes in an Explorer and a Selection Algorithm (`ChiSquareKBest`). We pass this to an Optuna Study object, along with an Objective function.\n",
    "Chi squared tests are used to test the independence of two events. \n",
    "\n",
    "For Feature Selection, we aim to select features, which are highly dependent on the response. This way, we can get features that will best determine the outcome.\n",
    "\n",
    "### Objective Function\n",
    "\n",
    "The objective function will be the one we optimize in Optuna Study. Objective function tries out different values for the parameters that we are tuning and saving the results in `study.trials_dataframes()`.\n",
    "\n",
    "Let's define the objective function for this HPO task by making use of the `train_and_eval()`. You can see that we simply choose a value for the parameters and call the train_and_eval method, making Optuna very easy to use in an existing workflow.\n",
    "\n",
    "The objective remains constant over different samplers, which are built-in options in Optuna to enable the selection of different sampling algorithms that optuna provides. Some of the available ones include - GridSampler, RandomSampler, TPESampler, etc. We'll use TPESampler for this demo, but feel free to try different samplers to notice the changes in performance. Tree-structured Parzen Estimator or TPE is based on independent sampling. It fits a Gaussian Mixture Model for each parameter in a trial `l(x)` and another GMM `g(x)` for other parameters. And it optimizes the `l(x)/g(x)` ratio to yield the best parameters.\n",
    "\n",
    "\n",
    "\n",
    "### HPO Trials and Study\n",
    "Optuna uses [study](https://optuna.readthedocs.io/en/stable/reference/study.html) and [trials](https://optuna.readthedocs.io/en/stable/reference/trial.html) to keep track of the HPO experiments. Put simply, a trial is a single call of the objective function while a set of trials make up a study. We will pick the optimal performing trial from a study to get the best parameters that were used in that run."
   ]
  },
  {
   "cell_type": "code",
   "execution_count": 6,
   "metadata": {},
   "outputs": [],
   "source": [
    "def train_and_eval(df, penalty='l2', C=1.0, l1_ratio=None, fit_intercept=True, selector=None):\n",
    "    # Splitting data and prepping for selector fit\n",
    "    X_train,  X_test, y_train, y_test = train_test_split(df,\n",
    "                                                         TARGET_COL,\n",
    "                                                         random_state=np.random.seed(0),\n",
    "                                                         shuffle=True)\n",
    "\n",
    "    # Xfeat's internal fold mechanism creates RangeIndex references, so we need to do an index reset on our data frames.\n",
    "\n",
    "    X_train = X_train.reset_index(drop=True)\n",
    "    X_test = X_test.reset_index(drop=True)\n",
    "    y_train = y_train.reset_index(drop=True)\n",
    "    y_test = y_test.reset_index(drop=True)\n",
    "    \n",
    "    if selector:\n",
    "        # For the selector, the label also needs to be in the DF\n",
    "        X_train[TARGET_COL] = y_train\n",
    "        X_test[TARGET_COL] = y_test\n",
    "\n",
    "        X_train = selector.fit_transform(X_train)\n",
    "        X_test = selector.transform(X_test)\n",
    "\n",
    "    # Train and get accuracy\n",
    "    classifier = LogisticRegression(penalty=penalty,\n",
    "                                    C=C,\n",
    "                                    l1_ratio=l1_ratio,\n",
    "                                    fit_intercept=fit_intercept)\n",
    "    classifier.fit(X_train, y_train)\n",
    "    y_pred = classifier.predict_proba(X_test.values)[:, 1]\n",
    "    y_pred = y_pred.astype(y_test.dtype)\n",
    "    score = roc_auc_score(y_test, y_pred)\n",
    "\n",
    "    return score, classifier\n",
    "\n",
    "\n",
    "def objective(df, selector, trial):\n",
    "    \"\"\"\n",
    "    Performs the training and evaluation of the set of parameters and subset of features using selector.\n",
    "    \"\"\"\n",
    "    selector.set_trial(trial)\n",
    "    \n",
    "    # Select Params\n",
    "    C = trial.suggest_uniform(\"C\", 0 , 7.0)\n",
    "    penalty = trial.suggest_categorical(\"penalty\", ['l1', 'none', 'l2'])\n",
    "    l1_ratio = trial.suggest_uniform(\"l1_ratio\", 0 , 1.0)\n",
    "    fit_intercept = trial.suggest_categorical(\"fit_intercept\", [True, False])\n",
    "    \n",
    "    score, _ = train_and_eval(df,\n",
    "                           penalty=penalty,\n",
    "                           C=C,\n",
    "                           l1_ratio=l1_ratio,\n",
    "                           fit_intercept=fit_intercept,\n",
    "                           selector=selector)\n",
    "    return score\n",
    "\n",
    "def feature_selection(df, experiment_name):\n",
    "    \"\"\"\n",
    "    Defines the Pipeline and performs the optuna opt\n",
    "    \"\"\"\n",
    "    selector = Pipeline(\n",
    "        [\n",
    "            SelectNumerical(),\n",
    "            KBestThresholdExplorer(ChiSquareKBest(target_col=TARGET_COL)),\n",
    "        ]\n",
    "    )\n",
    "\n",
    "\n",
    "    study = optuna.create_study(direction=\"maximize\")\n",
    "\n",
    "    study.optimize(partial(objective, df, selector), n_trials=N_TRIALS)\n",
    "\n",
    "    selector.from_trial(study.best_trial)\n",
    "    selected_cols = selector.get_selected_cols()\n",
    "\n",
    "    df_select = df[selected_cols]\n",
    "    df_select[TARGET_COL] = df[TARGET_COL]\n",
    "\n",
    "    params = study.best_params\n",
    "    _, classifier = train_and_eval(df_select,\n",
    "                  C=params['C'],\n",
    "                  penalty=params['penalty'],\n",
    "                  l1_ratio=params['l1_ratio'],\n",
    "                  fit_intercept=params['fit_intercept'])\n",
    "\n",
    "    return study, df_select.reset_index(drop=True), classifier, study.best_value"
   ]
  },
  {
   "cell_type": "markdown",
   "metadata": {},
   "source": [
    "### Set Experiment Variables\n",
    "\n",
    "Change the `INPUT_FILE` to correspond to the path in your local system and select the number of rows and trials to run the experiment for. "
   ]
  },
  {
   "cell_type": "code",
   "execution_count": 7,
   "metadata": {},
   "outputs": [],
   "source": [
    "N_TRIALS = 20\n",
    "\n",
    "TARGET_ENC_SMOOTH = 0.001\n",
    "TARGET_ENC_SPLIT = 'interleaved'"
   ]
  },
  {
   "cell_type": "markdown",
   "metadata": {},
   "source": [
    "## GPU Run\n",
    "\n",
    "Now, let's run the RAPIDS version by first reading in the data as cudf DataFrames."
   ]
  },
  {
   "cell_type": "code",
   "execution_count": 8,
   "metadata": {},
   "outputs": [],
   "source": [
    "import time\n",
    "start_time = time.time()"
   ]
  },
  {
   "cell_type": "code",
   "execution_count": 9,
   "metadata": {},
   "outputs": [
    {
     "name": "stdout",
     "output_type": "stream",
     "text": [
      "[W] [19:40:41.792749] L-BFGS: max iterations reached\n",
      "Default performance:  (0.5008140206336975, LogisticRegression(penalty='l2', tol=0.0001, C=1.0, fit_intercept=True, max_iter=1000, linesearch_max_iter=50, verbose=4, l1_ratio=None, solver='qn', handle=<cuml.raft.common.handle.Handle object at 0x7f2769abb130>, output_type='cudf'))\n"
     ]
    }
   ],
   "source": [
    "df_ = cudf.read_csv(INPUT_FILE)\n",
    "CAT_COLS = list(df_.select_dtypes('object').columns)\n",
    "TARGET_COL = \"target\"\n",
    "\n",
    "df_ = df_.fillna(0)\n",
    "\n",
    "print(\"Default performance: \", train_and_eval(df_[df_.columns.difference(CAT_COLS)]))"
   ]
  },
  {
   "cell_type": "code",
   "execution_count": 10,
   "metadata": {},
   "outputs": [],
   "source": [
    "# Can't handle negative values\n",
    "tmp = df_[df_.columns.difference(CAT_COLS)]\n",
    "tmp[ tmp < 0] = 0\n",
    "tmp[CAT_COLS] = df_[CAT_COLS]\n",
    "df_ = tmp"
   ]
  },
  {
   "cell_type": "code",
   "execution_count": 11,
   "metadata": {},
   "outputs": [
    {
     "name": "stderr",
     "output_type": "stream",
     "text": [
      "/opt/conda/envs/rapids/lib/python3.7/site-packages/cudf/core/join/join.py:368: UserWarning: can't safely cast column from right with type uint8 to category, upcasting to object\n",
      "  \"right\", dtype_r, dtype_l, libcudf_join_type\n",
      "/opt/conda/envs/rapids/lib/python3.7/site-packages/cudf/core/join/join.py:368: UserWarning: can't safely cast column from right with type uint16 to category, upcasting to object\n",
      "  \"right\", dtype_r, dtype_l, libcudf_join_type\n"
     ]
    },
    {
     "name": "stdout",
     "output_type": "stream",
     "text": [
      "[W] [19:41:50.039111] L-BFGS: max iterations reached\n",
      "After feature eng:  0.5400053858757019\n",
      "                              FE time:  69.38941\n"
     ]
    },
    {
     "data": {
      "text/html": [
       "<div>\n",
       "<style scoped>\n",
       "    .dataframe tbody tr th:only-of-type {\n",
       "        vertical-align: middle;\n",
       "    }\n",
       "\n",
       "    .dataframe tbody tr th {\n",
       "        vertical-align: top;\n",
       "    }\n",
       "\n",
       "    .dataframe thead th {\n",
       "        text-align: right;\n",
       "    }\n",
       "</style>\n",
       "<table border=\"1\" class=\"dataframe\">\n",
       "  <thead>\n",
       "    <tr style=\"text-align: right;\">\n",
       "      <th></th>\n",
       "      <th>ID</th>\n",
       "      <th>v1</th>\n",
       "      <th>v10</th>\n",
       "      <th>v100</th>\n",
       "      <th>v101</th>\n",
       "      <th>v102</th>\n",
       "      <th>v103</th>\n",
       "      <th>v104</th>\n",
       "      <th>v105</th>\n",
       "      <th>v106</th>\n",
       "      <th>...</th>\n",
       "      <th>v107_TEv110_TE_plus</th>\n",
       "      <th>v107_TEv112_TE_plus</th>\n",
       "      <th>v107_TEv113_TE_plus</th>\n",
       "      <th>v107_TEv125_TE_plus</th>\n",
       "      <th>v110_TEv112_TE_plus</th>\n",
       "      <th>v110_TEv113_TE_plus</th>\n",
       "      <th>v110_TEv125_TE_plus</th>\n",
       "      <th>v112_TEv113_TE_plus</th>\n",
       "      <th>v112_TEv125_TE_plus</th>\n",
       "      <th>v113_TEv125_TE_plus</th>\n",
       "    </tr>\n",
       "  </thead>\n",
       "  <tbody>\n",
       "    <tr>\n",
       "      <th>0</th>\n",
       "      <td>207613</td>\n",
       "      <td>4.355033</td>\n",
       "      <td>1.050329</td>\n",
       "      <td>6.978417e-02</td>\n",
       "      <td>3.682926</td>\n",
       "      <td>0.000000</td>\n",
       "      <td>6.864150</td>\n",
       "      <td>3.927537</td>\n",
       "      <td>2.655574</td>\n",
       "      <td>6.228646</td>\n",
       "      <td>...</td>\n",
       "      <td>1.448935</td>\n",
       "      <td>1.504422</td>\n",
       "      <td>1.426525</td>\n",
       "      <td>1.519639</td>\n",
       "      <td>1.432404</td>\n",
       "      <td>1.354507</td>\n",
       "      <td>1.447621</td>\n",
       "      <td>1.409994</td>\n",
       "      <td>1.503108</td>\n",
       "      <td>1.425211</td>\n",
       "    </tr>\n",
       "    <tr>\n",
       "      <th>1</th>\n",
       "      <td>23149</td>\n",
       "      <td>0.000000</td>\n",
       "      <td>1.312910</td>\n",
       "      <td>0.000000e+00</td>\n",
       "      <td>0.000000</td>\n",
       "      <td>0.000000</td>\n",
       "      <td>0.000000</td>\n",
       "      <td>0.000000</td>\n",
       "      <td>0.000000</td>\n",
       "      <td>0.000000</td>\n",
       "      <td>...</td>\n",
       "      <td>1.447565</td>\n",
       "      <td>1.530267</td>\n",
       "      <td>1.456674</td>\n",
       "      <td>1.514712</td>\n",
       "      <td>1.458221</td>\n",
       "      <td>1.384628</td>\n",
       "      <td>1.442666</td>\n",
       "      <td>1.467330</td>\n",
       "      <td>1.525368</td>\n",
       "      <td>1.451775</td>\n",
       "    </tr>\n",
       "    <tr>\n",
       "      <th>2</th>\n",
       "      <td>80417</td>\n",
       "      <td>1.850000</td>\n",
       "      <td>0.525165</td>\n",
       "      <td>8.754690e-07</td>\n",
       "      <td>4.639997</td>\n",
       "      <td>0.000000</td>\n",
       "      <td>4.518557</td>\n",
       "      <td>2.583353</td>\n",
       "      <td>0.710022</td>\n",
       "      <td>7.912134</td>\n",
       "      <td>...</td>\n",
       "      <td>1.449111</td>\n",
       "      <td>1.504854</td>\n",
       "      <td>1.433689</td>\n",
       "      <td>1.468357</td>\n",
       "      <td>1.431813</td>\n",
       "      <td>1.360649</td>\n",
       "      <td>1.395317</td>\n",
       "      <td>1.416391</td>\n",
       "      <td>1.451059</td>\n",
       "      <td>1.379895</td>\n",
       "    </tr>\n",
       "    <tr>\n",
       "      <th>3</th>\n",
       "      <td>12134</td>\n",
       "      <td>3.639344</td>\n",
       "      <td>7.002188</td>\n",
       "      <td>1.809524e+01</td>\n",
       "      <td>12.147995</td>\n",
       "      <td>3.380038</td>\n",
       "      <td>5.296963</td>\n",
       "      <td>2.461981</td>\n",
       "      <td>0.989404</td>\n",
       "      <td>18.616090</td>\n",
       "      <td>...</td>\n",
       "      <td>1.547695</td>\n",
       "      <td>1.499434</td>\n",
       "      <td>1.578134</td>\n",
       "      <td>1.511428</td>\n",
       "      <td>1.535244</td>\n",
       "      <td>1.613944</td>\n",
       "      <td>1.547238</td>\n",
       "      <td>1.565683</td>\n",
       "      <td>1.498977</td>\n",
       "      <td>1.577676</td>\n",
       "    </tr>\n",
       "    <tr>\n",
       "      <th>4</th>\n",
       "      <td>105341</td>\n",
       "      <td>0.000000</td>\n",
       "      <td>3.150985</td>\n",
       "      <td>0.000000e+00</td>\n",
       "      <td>0.000000</td>\n",
       "      <td>0.000000</td>\n",
       "      <td>0.000000</td>\n",
       "      <td>0.000000</td>\n",
       "      <td>0.000000</td>\n",
       "      <td>0.000000</td>\n",
       "      <td>...</td>\n",
       "      <td>1.443894</td>\n",
       "      <td>1.545957</td>\n",
       "      <td>1.439954</td>\n",
       "      <td>1.553467</td>\n",
       "      <td>1.479428</td>\n",
       "      <td>1.373425</td>\n",
       "      <td>1.486938</td>\n",
       "      <td>1.475488</td>\n",
       "      <td>1.589001</td>\n",
       "      <td>1.482998</td>\n",
       "    </tr>\n",
       "  </tbody>\n",
       "</table>\n",
       "<p>5 rows × 11477 columns</p>\n",
       "</div>"
      ],
      "text/plain": [
       "       ID        v1       v10          v100       v101      v102      v103  \\\n",
       "0  207613  4.355033  1.050329  6.978417e-02   3.682926  0.000000  6.864150   \n",
       "1   23149  0.000000  1.312910  0.000000e+00   0.000000  0.000000  0.000000   \n",
       "2   80417  1.850000  0.525165  8.754690e-07   4.639997  0.000000  4.518557   \n",
       "3   12134  3.639344  7.002188  1.809524e+01  12.147995  3.380038  5.296963   \n",
       "4  105341  0.000000  3.150985  0.000000e+00   0.000000  0.000000  0.000000   \n",
       "\n",
       "       v104      v105       v106  ...  v107_TEv110_TE_plus  \\\n",
       "0  3.927537  2.655574   6.228646  ...             1.448935   \n",
       "1  0.000000  0.000000   0.000000  ...             1.447565   \n",
       "2  2.583353  0.710022   7.912134  ...             1.449111   \n",
       "3  2.461981  0.989404  18.616090  ...             1.547695   \n",
       "4  0.000000  0.000000   0.000000  ...             1.443894   \n",
       "\n",
       "   v107_TEv112_TE_plus  v107_TEv113_TE_plus  v107_TEv125_TE_plus  \\\n",
       "0             1.504422             1.426525             1.519639   \n",
       "1             1.530267             1.456674             1.514712   \n",
       "2             1.504854             1.433689             1.468357   \n",
       "3             1.499434             1.578134             1.511428   \n",
       "4             1.545957             1.439954             1.553467   \n",
       "\n",
       "   v110_TEv112_TE_plus  v110_TEv113_TE_plus  v110_TEv125_TE_plus  \\\n",
       "0             1.432404             1.354507             1.447621   \n",
       "1             1.458221             1.384628             1.442666   \n",
       "2             1.431813             1.360649             1.395317   \n",
       "3             1.535244             1.613944             1.547238   \n",
       "4             1.479428             1.373425             1.486938   \n",
       "\n",
       "   v112_TEv113_TE_plus  v112_TEv125_TE_plus  v113_TEv125_TE_plus  \n",
       "0             1.409994             1.503108             1.425211  \n",
       "1             1.467330             1.525368             1.451775  \n",
       "2             1.416391             1.451059             1.379895  \n",
       "3             1.565683             1.498977             1.577676  \n",
       "4             1.475488             1.589001             1.482998  \n",
       "\n",
       "[5 rows x 11477 columns]"
      ]
     },
     "execution_count": 11,
     "metadata": {},
     "output_type": "execute_result"
    }
   ],
   "source": [
    "for col in CAT_COLS:\n",
    "    df_[col] = df_[col].astype(\"category\")\n",
    "\n",
    "with timed(\"FE\"):\n",
    "    df_feature_eng = feature_engineering(df_)\n",
    "    df_feature_eng[TARGET_COL] = df_feature_eng[TARGET_COL].astype('float64')\n",
    "    score, _ = train_and_eval(df_feature_eng)\n",
    "    print(\"After feature eng: \", score)\n",
    "\n",
    "df_feature_eng.head()"
   ]
  },
  {
   "cell_type": "code",
   "execution_count": 12,
   "metadata": {},
   "outputs": [
    {
     "name": "stderr",
     "output_type": "stream",
     "text": [
      "[I 2020-09-30 19:41:57,635] A new study created in memory with name: no-name-d15e916f-8a26-4992-96c6-baa431643fd2\n"
     ]
    },
    {
     "name": "stdout",
     "output_type": "stream",
     "text": [
      "[W] [19:42:32.311574] L-BFGS: max iterations reached\n"
     ]
    },
    {
     "name": "stderr",
     "output_type": "stream",
     "text": [
      "[I 2020-09-30 19:42:32,660] Trial 0 finished with value: 0.6189335584640503 and parameters: {'C': 6.343813191522929, 'penalty': 'none', 'l1_ratio': 0.5695004758271185, 'fit_intercept': True, 'KBestThresholdExplorer.k': 2365.0}. Best is trial 0 with value: 0.6189335584640503.\n"
     ]
    },
    {
     "name": "stdout",
     "output_type": "stream",
     "text": [
      "[W] [19:43:02.987132] QWL-QN: max iterations reached\n"
     ]
    },
    {
     "name": "stderr",
     "output_type": "stream",
     "text": [
      "[I 2020-09-30 19:43:03,379] Trial 1 finished with value: 0.6470701694488525 and parameters: {'C': 4.290414102870508, 'penalty': 'l1', 'l1_ratio': 0.4787127031154158, 'fit_intercept': True, 'KBestThresholdExplorer.k': 2758.0}. Best is trial 1 with value: 0.6470701694488525.\n"
     ]
    },
    {
     "name": "stdout",
     "output_type": "stream",
     "text": [
      "[W] [19:44:03.284001] L-BFGS: max iterations reached\n"
     ]
    },
    {
     "name": "stderr",
     "output_type": "stream",
     "text": [
      "[I 2020-09-30 19:44:04,340] Trial 2 finished with value: 0.5467679500579834 and parameters: {'C': 4.273756890985935, 'penalty': 'l2', 'l1_ratio': 0.027749172477760653, 'fit_intercept': False, 'KBestThresholdExplorer.k': 9668.0}. Best is trial 1 with value: 0.6470701694488525.\n"
     ]
    },
    {
     "name": "stdout",
     "output_type": "stream",
     "text": [
      "[W] [19:44:48.737756] L-BFGS: max iterations reached\n"
     ]
    },
    {
     "name": "stderr",
     "output_type": "stream",
     "text": [
      "[I 2020-09-30 19:44:49,363] Trial 3 finished with value: 0.5522514581680298 and parameters: {'C': 4.796760328676853, 'penalty': 'l2', 'l1_ratio': 0.22872649866218986, 'fit_intercept': True, 'KBestThresholdExplorer.k': 5058.0}. Best is trial 1 with value: 0.6470701694488525.\n"
     ]
    },
    {
     "name": "stdout",
     "output_type": "stream",
     "text": [
      "[W] [19:45:50.149614] L-BFGS: max iterations reached\n"
     ]
    },
    {
     "name": "stderr",
     "output_type": "stream",
     "text": [
      "[I 2020-09-30 19:45:51,241] Trial 4 finished with value: 0.5482722520828247 and parameters: {'C': 3.133277519464012, 'penalty': 'l2', 'l1_ratio': 0.9384837152281482, 'fit_intercept': True, 'KBestThresholdExplorer.k': 10005.0}. Best is trial 1 with value: 0.6470701694488525.\n"
     ]
    },
    {
     "name": "stdout",
     "output_type": "stream",
     "text": [
      "[W] [19:46:32.010853] L-BFGS: max iterations reached\n"
     ]
    },
    {
     "name": "stderr",
     "output_type": "stream",
     "text": [
      "[I 2020-09-30 19:46:32,626] Trial 5 finished with value: 0.5511898994445801 and parameters: {'C': 6.003143930323626, 'penalty': 'none', 'l1_ratio': 0.6394042204404361, 'fit_intercept': True, 'KBestThresholdExplorer.k': 4902.0}. Best is trial 1 with value: 0.6470701694488525.\n"
     ]
    },
    {
     "name": "stdout",
     "output_type": "stream",
     "text": [
      "[W] [19:47:00.091237] L-BFGS: max iterations reached\n"
     ]
    },
    {
     "name": "stderr",
     "output_type": "stream",
     "text": [
      "[I 2020-09-30 19:47:00,308] Trial 6 finished with value: 0.5831711292266846 and parameters: {'C': 4.695556445867905, 'penalty': 'l2', 'l1_ratio': 0.6139999375647275, 'fit_intercept': True, 'KBestThresholdExplorer.k': 1322.0}. Best is trial 1 with value: 0.6470701694488525.\n"
     ]
    },
    {
     "name": "stdout",
     "output_type": "stream",
     "text": [
      "[W] [19:47:22.682285] QWL-QN: max iterations reached\n"
     ]
    },
    {
     "name": "stderr",
     "output_type": "stream",
     "text": [
      "[I 2020-09-30 19:47:22,704] Trial 7 finished with value: 0.5696936845779419 and parameters: {'C': 3.9894510722889533, 'penalty': 'l1', 'l1_ratio': 0.7422807516475809, 'fit_intercept': False, 'KBestThresholdExplorer.k': 63.0}. Best is trial 1 with value: 0.6470701694488525.\n"
     ]
    },
    {
     "name": "stdout",
     "output_type": "stream",
     "text": [
      "[W] [19:48:12.942062] QWL-QN: max iterations reached\n"
     ]
    },
    {
     "name": "stderr",
     "output_type": "stream",
     "text": [
      "[I 2020-09-30 19:48:13,857] Trial 8 finished with value: 0.6061608195304871 and parameters: {'C': 1.3537410085059247, 'penalty': 'l1', 'l1_ratio': 0.7461607701854387, 'fit_intercept': False, 'KBestThresholdExplorer.k': 7995.0}. Best is trial 1 with value: 0.6470701694488525.\n"
     ]
    },
    {
     "name": "stdout",
     "output_type": "stream",
     "text": [
      "[W] [19:48:51.885635] L-BFGS: max iterations reached\n"
     ]
    },
    {
     "name": "stderr",
     "output_type": "stream",
     "text": [
      "[I 2020-09-30 19:48:52,458] Trial 9 finished with value: 0.5455332398414612 and parameters: {'C': 5.5898874036921535, 'penalty': 'none', 'l1_ratio': 0.7701708603995686, 'fit_intercept': False, 'KBestThresholdExplorer.k': 4499.0}. Best is trial 1 with value: 0.6470701694488525.\n"
     ]
    },
    {
     "name": "stdout",
     "output_type": "stream",
     "text": [
      "[W] [19:49:24.130661] QWL-QN: max iterations reached\n"
     ]
    },
    {
     "name": "stderr",
     "output_type": "stream",
     "text": [
      "[I 2020-09-30 19:49:24,518] Trial 10 finished with value: 0.6311653852462769 and parameters: {'C': 2.6069218713142033, 'penalty': 'l1', 'l1_ratio': 0.34790715295402885, 'fit_intercept': True, 'KBestThresholdExplorer.k': 2726.0}. Best is trial 1 with value: 0.6470701694488525.\n"
     ]
    },
    {
     "name": "stdout",
     "output_type": "stream",
     "text": [
      "[W] [19:49:55.571502] QWL-QN: max iterations reached\n"
     ]
    },
    {
     "name": "stderr",
     "output_type": "stream",
     "text": [
      "[I 2020-09-30 19:49:55,960] Trial 11 finished with value: 0.6010836958885193 and parameters: {'C': 2.4660635275858196, 'penalty': 'l1', 'l1_ratio': 0.31913157333489084, 'fit_intercept': True, 'KBestThresholdExplorer.k': 2728.0}. Best is trial 1 with value: 0.6470701694488525.\n"
     ]
    },
    {
     "name": "stdout",
     "output_type": "stream",
     "text": [
      "[W] [19:50:18.888409] QWL-QN: max iterations reached\n"
     ]
    },
    {
     "name": "stderr",
     "output_type": "stream",
     "text": [
      "[I 2020-09-30 19:50:18,929] Trial 12 finished with value: 0.7187761068344116 and parameters: {'C': 1.4998737993194653, 'penalty': 'l1', 'l1_ratio': 0.35937902959054147, 'fit_intercept': True, 'KBestThresholdExplorer.k': 153.0}. Best is trial 12 with value: 0.7187761068344116.\n"
     ]
    },
    {
     "name": "stdout",
     "output_type": "stream",
     "text": [
      "[W] [19:50:41.140864] QWL-QN: max iterations reached\n"
     ]
    },
    {
     "name": "stderr",
     "output_type": "stream",
     "text": [
      "[I 2020-09-30 19:50:41,157] Trial 13 finished with value: 0.6145943403244019 and parameters: {'C': 0.06580036878502704, 'penalty': 'l1', 'l1_ratio': 0.42780054786000177, 'fit_intercept': True, 'KBestThresholdExplorer.k': 30.0}. Best is trial 12 with value: 0.7187761068344116.\n"
     ]
    },
    {
     "name": "stdout",
     "output_type": "stream",
     "text": [
      "[W] [19:51:05.681439] QWL-QN: max iterations reached\n"
     ]
    },
    {
     "name": "stderr",
     "output_type": "stream",
     "text": [
      "[I 2020-09-30 19:51:05,795] Trial 14 finished with value: 0.5991315841674805 and parameters: {'C': 1.157459645620964, 'penalty': 'l1', 'l1_ratio': 0.16165453101070457, 'fit_intercept': True, 'KBestThresholdExplorer.k': 620.0}. Best is trial 12 with value: 0.7187761068344116.\n"
     ]
    },
    {
     "name": "stdout",
     "output_type": "stream",
     "text": [
      "[W] [19:51:53.004248] QWL-QN: max iterations reached\n"
     ]
    },
    {
     "name": "stderr",
     "output_type": "stream",
     "text": [
      "[I 2020-09-30 19:51:53,918] Trial 15 finished with value: 0.5888620615005493 and parameters: {'C': 1.4929730702116815, 'penalty': 'l1', 'l1_ratio': 0.4369335681007598, 'fit_intercept': True, 'KBestThresholdExplorer.k': 6886.0}. Best is trial 12 with value: 0.7187761068344116.\n"
     ]
    },
    {
     "name": "stdout",
     "output_type": "stream",
     "text": [
      "[W] [19:52:28.940086] QWL-QN: max iterations reached\n"
     ]
    },
    {
     "name": "stderr",
     "output_type": "stream",
     "text": [
      "[I 2020-09-30 19:52:29,433] Trial 16 finished with value: 0.5889989733695984 and parameters: {'C': 0.12812765896156053, 'penalty': 'l1', 'l1_ratio': 0.07687815358384908, 'fit_intercept': True, 'KBestThresholdExplorer.k': 3710.0}. Best is trial 12 with value: 0.7187761068344116.\n"
     ]
    },
    {
     "name": "stdout",
     "output_type": "stream",
     "text": [
      "[W] [19:52:58.287721] QWL-QN: max iterations reached\n"
     ]
    },
    {
     "name": "stderr",
     "output_type": "stream",
     "text": [
      "[I 2020-09-30 19:52:58,563] Trial 17 finished with value: 0.6542960405349731 and parameters: {'C': 3.0521587896114006, 'penalty': 'l1', 'l1_ratio': 0.48353869545694356, 'fit_intercept': True, 'KBestThresholdExplorer.k': 1791.0}. Best is trial 12 with value: 0.7187761068344116.\n"
     ]
    },
    {
     "name": "stdout",
     "output_type": "stream",
     "text": [
      "[W] [19:53:25.293130] QWL-QN: max iterations reached\n"
     ]
    },
    {
     "name": "stderr",
     "output_type": "stream",
     "text": [
      "[I 2020-09-30 19:53:25,507] Trial 18 finished with value: 0.6227583885192871 and parameters: {'C': 1.910206408026399, 'penalty': 'l1', 'l1_ratio': 0.31717875821089814, 'fit_intercept': True, 'KBestThresholdExplorer.k': 1315.0}. Best is trial 12 with value: 0.7187761068344116.\n"
     ]
    },
    {
     "name": "stdout",
     "output_type": "stream",
     "text": [
      "[W] [19:54:14.492154] QWL-QN: max iterations reached\n"
     ]
    },
    {
     "name": "stderr",
     "output_type": "stream",
     "text": [
      "[I 2020-09-30 19:54:15,242] Trial 19 finished with value: 0.5689136981964111 and parameters: {'C': 0.6689405341098955, 'penalty': 'l1', 'l1_ratio': 0.19904717514814055, 'fit_intercept': True, 'KBestThresholdExplorer.k': 6327.0}. Best is trial 12 with value: 0.7187761068344116.\n",
      "Optuna selector is not last component.\n"
     ]
    },
    {
     "name": "stdout",
     "output_type": "stream",
     "text": [
      "[W] [19:54:16.529654] QWL-QN: max iterations reached\n",
      "Best score after Feature Selection + Optuna:  0.7187761068344116\n",
      "                     FS + Optuna time:  738.92981\n"
     ]
    },
    {
     "data": {
      "text/html": [
       "<div>\n",
       "<style scoped>\n",
       "    .dataframe tbody tr th:only-of-type {\n",
       "        vertical-align: middle;\n",
       "    }\n",
       "\n",
       "    .dataframe tbody tr th {\n",
       "        vertical-align: top;\n",
       "    }\n",
       "\n",
       "    .dataframe thead th {\n",
       "        text-align: right;\n",
       "    }\n",
       "</style>\n",
       "<table border=\"1\" class=\"dataframe\">\n",
       "  <thead>\n",
       "    <tr style=\"text-align: right;\">\n",
       "      <th></th>\n",
       "      <th>v113</th>\n",
       "      <th>IDv10_plus</th>\n",
       "      <th>IDv114_plus</th>\n",
       "      <th>IDv129_plus</th>\n",
       "      <th>IDv14_plus</th>\n",
       "      <th>IDv21_plus</th>\n",
       "      <th>IDv34_plus</th>\n",
       "      <th>IDv50_plus</th>\n",
       "      <th>IDv72_plus</th>\n",
       "      <th>IDv31_plus</th>\n",
       "      <th>...</th>\n",
       "      <th>v113v74_TE_plus</th>\n",
       "      <th>v113v75_TE_plus</th>\n",
       "      <th>v113v79_TE_plus</th>\n",
       "      <th>v113v91_TE_plus</th>\n",
       "      <th>v113v107_TE_plus</th>\n",
       "      <th>v113v110_TE_plus</th>\n",
       "      <th>v113v112_TE_plus</th>\n",
       "      <th>v113v113_TE_plus</th>\n",
       "      <th>v113v125_TE_plus</th>\n",
       "      <th>target</th>\n",
       "    </tr>\n",
       "  </thead>\n",
       "  <tbody>\n",
       "    <tr>\n",
       "      <th>0</th>\n",
       "      <td>7</td>\n",
       "      <td>207614.050329</td>\n",
       "      <td>207624.776221</td>\n",
       "      <td>207613</td>\n",
       "      <td>207624.185820</td>\n",
       "      <td>207619.616246</td>\n",
       "      <td>207617.618895</td>\n",
       "      <td>207613.516469</td>\n",
       "      <td>207614</td>\n",
       "      <td>207614</td>\n",
       "      <td>...</td>\n",
       "      <td>7.759111</td>\n",
       "      <td>7.759865</td>\n",
       "      <td>7.604821</td>\n",
       "      <td>7.760476</td>\n",
       "      <td>7.760476</td>\n",
       "      <td>7.688459</td>\n",
       "      <td>7.743946</td>\n",
       "      <td>7.666048</td>\n",
       "      <td>7.759163</td>\n",
       "      <td>0.0</td>\n",
       "    </tr>\n",
       "    <tr>\n",
       "      <th>1</th>\n",
       "      <td>1</td>\n",
       "      <td>23150.312910</td>\n",
       "      <td>23163.068032</td>\n",
       "      <td>23149</td>\n",
       "      <td>23160.185820</td>\n",
       "      <td>23155.324456</td>\n",
       "      <td>23155.072737</td>\n",
       "      <td>23150.856064</td>\n",
       "      <td>23150</td>\n",
       "      <td>23150</td>\n",
       "      <td>...</td>\n",
       "      <td>1.758901</td>\n",
       "      <td>1.756760</td>\n",
       "      <td>1.741380</td>\n",
       "      <td>1.759805</td>\n",
       "      <td>1.759805</td>\n",
       "      <td>1.687759</td>\n",
       "      <td>1.770462</td>\n",
       "      <td>1.696868</td>\n",
       "      <td>1.754907</td>\n",
       "      <td>1.0</td>\n",
       "    </tr>\n",
       "    <tr>\n",
       "      <th>2</th>\n",
       "      <td>4</td>\n",
       "      <td>80417.525165</td>\n",
       "      <td>80431.807028</td>\n",
       "      <td>80417</td>\n",
       "      <td>80427.273674</td>\n",
       "      <td>80423.418835</td>\n",
       "      <td>80423.392709</td>\n",
       "      <td>80418.272100</td>\n",
       "      <td>80419</td>\n",
       "      <td>80418</td>\n",
       "      <td>...</td>\n",
       "      <td>4.759512</td>\n",
       "      <td>4.760238</td>\n",
       "      <td>4.623515</td>\n",
       "      <td>4.761076</td>\n",
       "      <td>4.761076</td>\n",
       "      <td>4.688035</td>\n",
       "      <td>4.743778</td>\n",
       "      <td>4.672613</td>\n",
       "      <td>4.707282</td>\n",
       "      <td>0.0</td>\n",
       "    </tr>\n",
       "    <tr>\n",
       "      <th>3</th>\n",
       "      <td>0</td>\n",
       "      <td>12141.002188</td>\n",
       "      <td>12145.406649</td>\n",
       "      <td>12134</td>\n",
       "      <td>12150.061353</td>\n",
       "      <td>12143.428937</td>\n",
       "      <td>12141.390834</td>\n",
       "      <td>12137.006383</td>\n",
       "      <td>12134</td>\n",
       "      <td>12134</td>\n",
       "      <td>...</td>\n",
       "      <td>0.759608</td>\n",
       "      <td>0.758908</td>\n",
       "      <td>0.778760</td>\n",
       "      <td>0.755942</td>\n",
       "      <td>0.755942</td>\n",
       "      <td>0.791752</td>\n",
       "      <td>0.743492</td>\n",
       "      <td>0.822191</td>\n",
       "      <td>0.755485</td>\n",
       "      <td>1.0</td>\n",
       "    </tr>\n",
       "    <tr>\n",
       "      <th>4</th>\n",
       "      <td>18</td>\n",
       "      <td>105344.150985</td>\n",
       "      <td>105356.186543</td>\n",
       "      <td>105341</td>\n",
       "      <td>105353.061445</td>\n",
       "      <td>105347.335066</td>\n",
       "      <td>105349.622688</td>\n",
       "      <td>105341.594233</td>\n",
       "      <td>105342</td>\n",
       "      <td>105342</td>\n",
       "      <td>...</td>\n",
       "      <td>18.759247</td>\n",
       "      <td>18.761818</td>\n",
       "      <td>18.732284</td>\n",
       "      <td>18.755212</td>\n",
       "      <td>18.755212</td>\n",
       "      <td>18.688682</td>\n",
       "      <td>18.790745</td>\n",
       "      <td>18.684743</td>\n",
       "      <td>18.798256</td>\n",
       "      <td>0.0</td>\n",
       "    </tr>\n",
       "  </tbody>\n",
       "</table>\n",
       "<p>5 rows × 154 columns</p>\n",
       "</div>"
      ],
      "text/plain": [
       "   v113     IDv10_plus    IDv114_plus  IDv129_plus     IDv14_plus  \\\n",
       "0     7  207614.050329  207624.776221       207613  207624.185820   \n",
       "1     1   23150.312910   23163.068032        23149   23160.185820   \n",
       "2     4   80417.525165   80431.807028        80417   80427.273674   \n",
       "3     0   12141.002188   12145.406649        12134   12150.061353   \n",
       "4    18  105344.150985  105356.186543       105341  105353.061445   \n",
       "\n",
       "      IDv21_plus     IDv34_plus     IDv50_plus  IDv72_plus  IDv31_plus  ...  \\\n",
       "0  207619.616246  207617.618895  207613.516469      207614      207614  ...   \n",
       "1   23155.324456   23155.072737   23150.856064       23150       23150  ...   \n",
       "2   80423.418835   80423.392709   80418.272100       80419       80418  ...   \n",
       "3   12143.428937   12141.390834   12137.006383       12134       12134  ...   \n",
       "4  105347.335066  105349.622688  105341.594233      105342      105342  ...   \n",
       "\n",
       "   v113v74_TE_plus  v113v75_TE_plus  v113v79_TE_plus  v113v91_TE_plus  \\\n",
       "0         7.759111         7.759865         7.604821         7.760476   \n",
       "1         1.758901         1.756760         1.741380         1.759805   \n",
       "2         4.759512         4.760238         4.623515         4.761076   \n",
       "3         0.759608         0.758908         0.778760         0.755942   \n",
       "4        18.759247        18.761818        18.732284        18.755212   \n",
       "\n",
       "   v113v107_TE_plus  v113v110_TE_plus  v113v112_TE_plus  v113v113_TE_plus  \\\n",
       "0          7.760476          7.688459          7.743946          7.666048   \n",
       "1          1.759805          1.687759          1.770462          1.696868   \n",
       "2          4.761076          4.688035          4.743778          4.672613   \n",
       "3          0.755942          0.791752          0.743492          0.822191   \n",
       "4         18.755212         18.688682         18.790745         18.684743   \n",
       "\n",
       "   v113v125_TE_plus  target  \n",
       "0          7.759163     0.0  \n",
       "1          1.754907     1.0  \n",
       "2          4.707282     0.0  \n",
       "3          0.755485     1.0  \n",
       "4         18.798256     0.0  \n",
       "\n",
       "[5 rows x 154 columns]"
      ]
     },
     "execution_count": 12,
     "metadata": {},
     "output_type": "execute_result"
    }
   ],
   "source": [
    "import random\n",
    "exp_name = 'Optuna-SingleGPU' + str(random.randint(0,100))\n",
    "with timed(\"FS + Optuna\"):\n",
    "    # Disable Alembic driver, used by MLflow, from logging INFO messages to the command line.\n",
    "    logging.getLogger('alembic').setLevel(logging.CRITICAL)\n",
    "    study, df_select, best_clf, score = feature_selection(df_feature_eng, experiment_name=exp_name)\n",
    "    print(\"Best score after Feature Selection + Optuna: \", score)\n",
    "df_select.head()"
   ]
  },
  {
   "cell_type": "code",
   "execution_count": 13,
   "metadata": {},
   "outputs": [
    {
     "name": "stdout",
     "output_type": "stream",
     "text": [
      "Complete workflow  817.7786686420441\n"
     ]
    }
   ],
   "source": [
    "end_time = time.time()\n",
    "print(\"Complete workflow \", end_time - start_time)"
   ]
  },
  {
   "cell_type": "code",
   "execution_count": 14,
   "metadata": {},
   "outputs": [
    {
     "data": {
      "text/html": [
       "<div>\n",
       "<style scoped>\n",
       "    .dataframe tbody tr th:only-of-type {\n",
       "        vertical-align: middle;\n",
       "    }\n",
       "\n",
       "    .dataframe tbody tr th {\n",
       "        vertical-align: top;\n",
       "    }\n",
       "\n",
       "    .dataframe thead th {\n",
       "        text-align: right;\n",
       "    }\n",
       "</style>\n",
       "<table border=\"1\" class=\"dataframe\">\n",
       "  <thead>\n",
       "    <tr style=\"text-align: right;\">\n",
       "      <th></th>\n",
       "      <th>ID</th>\n",
       "      <th>v1</th>\n",
       "      <th>v10</th>\n",
       "      <th>v100</th>\n",
       "      <th>v101</th>\n",
       "      <th>v102</th>\n",
       "      <th>v103</th>\n",
       "      <th>v104</th>\n",
       "      <th>v105</th>\n",
       "      <th>v106</th>\n",
       "      <th>...</th>\n",
       "      <th>v107_TEv110_TE_plus</th>\n",
       "      <th>v107_TEv112_TE_plus</th>\n",
       "      <th>v107_TEv113_TE_plus</th>\n",
       "      <th>v107_TEv125_TE_plus</th>\n",
       "      <th>v110_TEv112_TE_plus</th>\n",
       "      <th>v110_TEv113_TE_plus</th>\n",
       "      <th>v110_TEv125_TE_plus</th>\n",
       "      <th>v112_TEv113_TE_plus</th>\n",
       "      <th>v112_TEv125_TE_plus</th>\n",
       "      <th>v113_TEv125_TE_plus</th>\n",
       "    </tr>\n",
       "  </thead>\n",
       "  <tbody>\n",
       "    <tr>\n",
       "      <th>0</th>\n",
       "      <td>207613</td>\n",
       "      <td>4.355033</td>\n",
       "      <td>1.050329</td>\n",
       "      <td>6.978417e-02</td>\n",
       "      <td>3.682926</td>\n",
       "      <td>0.000000</td>\n",
       "      <td>6.864150</td>\n",
       "      <td>3.927537</td>\n",
       "      <td>2.655574</td>\n",
       "      <td>6.228646</td>\n",
       "      <td>...</td>\n",
       "      <td>1.448935</td>\n",
       "      <td>1.504422</td>\n",
       "      <td>1.426525</td>\n",
       "      <td>1.519639</td>\n",
       "      <td>1.432404</td>\n",
       "      <td>1.354507</td>\n",
       "      <td>1.447621</td>\n",
       "      <td>1.409994</td>\n",
       "      <td>1.503108</td>\n",
       "      <td>1.425211</td>\n",
       "    </tr>\n",
       "    <tr>\n",
       "      <th>1</th>\n",
       "      <td>23149</td>\n",
       "      <td>0.000000</td>\n",
       "      <td>1.312910</td>\n",
       "      <td>0.000000e+00</td>\n",
       "      <td>0.000000</td>\n",
       "      <td>0.000000</td>\n",
       "      <td>0.000000</td>\n",
       "      <td>0.000000</td>\n",
       "      <td>0.000000</td>\n",
       "      <td>0.000000</td>\n",
       "      <td>...</td>\n",
       "      <td>1.447565</td>\n",
       "      <td>1.530267</td>\n",
       "      <td>1.456674</td>\n",
       "      <td>1.514712</td>\n",
       "      <td>1.458221</td>\n",
       "      <td>1.384628</td>\n",
       "      <td>1.442666</td>\n",
       "      <td>1.467330</td>\n",
       "      <td>1.525368</td>\n",
       "      <td>1.451775</td>\n",
       "    </tr>\n",
       "    <tr>\n",
       "      <th>2</th>\n",
       "      <td>80417</td>\n",
       "      <td>1.850000</td>\n",
       "      <td>0.525165</td>\n",
       "      <td>8.754690e-07</td>\n",
       "      <td>4.639997</td>\n",
       "      <td>0.000000</td>\n",
       "      <td>4.518557</td>\n",
       "      <td>2.583353</td>\n",
       "      <td>0.710022</td>\n",
       "      <td>7.912134</td>\n",
       "      <td>...</td>\n",
       "      <td>1.449111</td>\n",
       "      <td>1.504854</td>\n",
       "      <td>1.433689</td>\n",
       "      <td>1.468357</td>\n",
       "      <td>1.431813</td>\n",
       "      <td>1.360649</td>\n",
       "      <td>1.395317</td>\n",
       "      <td>1.416391</td>\n",
       "      <td>1.451059</td>\n",
       "      <td>1.379895</td>\n",
       "    </tr>\n",
       "    <tr>\n",
       "      <th>3</th>\n",
       "      <td>12134</td>\n",
       "      <td>3.639344</td>\n",
       "      <td>7.002188</td>\n",
       "      <td>1.809524e+01</td>\n",
       "      <td>12.147995</td>\n",
       "      <td>3.380038</td>\n",
       "      <td>5.296963</td>\n",
       "      <td>2.461981</td>\n",
       "      <td>0.989404</td>\n",
       "      <td>18.616090</td>\n",
       "      <td>...</td>\n",
       "      <td>1.547695</td>\n",
       "      <td>1.499434</td>\n",
       "      <td>1.578134</td>\n",
       "      <td>1.511428</td>\n",
       "      <td>1.535244</td>\n",
       "      <td>1.613944</td>\n",
       "      <td>1.547238</td>\n",
       "      <td>1.565683</td>\n",
       "      <td>1.498977</td>\n",
       "      <td>1.577676</td>\n",
       "    </tr>\n",
       "    <tr>\n",
       "      <th>4</th>\n",
       "      <td>105341</td>\n",
       "      <td>0.000000</td>\n",
       "      <td>3.150985</td>\n",
       "      <td>0.000000e+00</td>\n",
       "      <td>0.000000</td>\n",
       "      <td>0.000000</td>\n",
       "      <td>0.000000</td>\n",
       "      <td>0.000000</td>\n",
       "      <td>0.000000</td>\n",
       "      <td>0.000000</td>\n",
       "      <td>...</td>\n",
       "      <td>1.443894</td>\n",
       "      <td>1.545957</td>\n",
       "      <td>1.439954</td>\n",
       "      <td>1.553467</td>\n",
       "      <td>1.479428</td>\n",
       "      <td>1.373425</td>\n",
       "      <td>1.486938</td>\n",
       "      <td>1.475488</td>\n",
       "      <td>1.589001</td>\n",
       "      <td>1.482998</td>\n",
       "    </tr>\n",
       "  </tbody>\n",
       "</table>\n",
       "<p>5 rows × 11477 columns</p>\n",
       "</div>"
      ],
      "text/plain": [
       "       ID        v1       v10          v100       v101      v102      v103  \\\n",
       "0  207613  4.355033  1.050329  6.978417e-02   3.682926  0.000000  6.864150   \n",
       "1   23149  0.000000  1.312910  0.000000e+00   0.000000  0.000000  0.000000   \n",
       "2   80417  1.850000  0.525165  8.754690e-07   4.639997  0.000000  4.518557   \n",
       "3   12134  3.639344  7.002188  1.809524e+01  12.147995  3.380038  5.296963   \n",
       "4  105341  0.000000  3.150985  0.000000e+00   0.000000  0.000000  0.000000   \n",
       "\n",
       "       v104      v105       v106  ...  v107_TEv110_TE_plus  \\\n",
       "0  3.927537  2.655574   6.228646  ...             1.448935   \n",
       "1  0.000000  0.000000   0.000000  ...             1.447565   \n",
       "2  2.583353  0.710022   7.912134  ...             1.449111   \n",
       "3  2.461981  0.989404  18.616090  ...             1.547695   \n",
       "4  0.000000  0.000000   0.000000  ...             1.443894   \n",
       "\n",
       "   v107_TEv112_TE_plus  v107_TEv113_TE_plus  v107_TEv125_TE_plus  \\\n",
       "0             1.504422             1.426525             1.519639   \n",
       "1             1.530267             1.456674             1.514712   \n",
       "2             1.504854             1.433689             1.468357   \n",
       "3             1.499434             1.578134             1.511428   \n",
       "4             1.545957             1.439954             1.553467   \n",
       "\n",
       "   v110_TEv112_TE_plus  v110_TEv113_TE_plus  v110_TEv125_TE_plus  \\\n",
       "0             1.432404             1.354507             1.447621   \n",
       "1             1.458221             1.384628             1.442666   \n",
       "2             1.431813             1.360649             1.395317   \n",
       "3             1.535244             1.613944             1.547238   \n",
       "4             1.479428             1.373425             1.486938   \n",
       "\n",
       "   v112_TEv113_TE_plus  v112_TEv125_TE_plus  v113_TEv125_TE_plus  \n",
       "0             1.409994             1.503108             1.425211  \n",
       "1             1.467330             1.525368             1.451775  \n",
       "2             1.416391             1.451059             1.379895  \n",
       "3             1.565683             1.498977             1.577676  \n",
       "4             1.475488             1.589001             1.482998  \n",
       "\n",
       "[5 rows x 11477 columns]"
      ]
     },
     "execution_count": 14,
     "metadata": {},
     "output_type": "execute_result"
    }
   ],
   "source": [
    "df_feature_eng.head()"
   ]
  },
  {
   "cell_type": "code",
   "execution_count": 15,
   "metadata": {},
   "outputs": [
    {
     "name": "stdout",
     "output_type": "stream",
     "text": [
      "The details of the best trial  FrozenTrial(number=12, value=0.7187761068344116, datetime_start=datetime.datetime(2020, 9, 30, 19, 49, 55, 963003), datetime_complete=datetime.datetime(2020, 9, 30, 19, 50, 18, 929381), params={'C': 1.4998737993194653, 'penalty': 'l1', 'l1_ratio': 0.35937902959054147, 'fit_intercept': True, 'KBestThresholdExplorer.k': 153.0}, distributions={'C': UniformDistribution(high=7.0, low=0), 'penalty': CategoricalDistribution(choices=('l1', 'none', 'l2')), 'l1_ratio': UniformDistribution(high=1.0, low=0), 'fit_intercept': CategoricalDistribution(choices=(True, False)), 'KBestThresholdExplorer.k': DiscreteUniformDistribution(high=11476, low=1, q=1)}, user_attrs={}, system_attrs={}, intermediate_values={}, trial_id=12, state=TrialState.COMPLETE)\n"
     ]
    }
   ],
   "source": [
    "print(\"The details of the best trial \", study.best_trial)"
   ]
  },
  {
   "cell_type": "markdown",
   "metadata": {},
   "source": [
    "## Performance Summarization\n",
    "\n",
    "We notice a performance improvement in AUC score from 0.54 to 0.71 for this experiment. And this improvement was acheived in about 14 minutes, which is fast enough to have multiple runs in the same day by tweaking the parameter ranges.\n",
    "\n",
    "The following is observations from an experiment run with Airlines dataset to generate a CPU runtime comparison. As you can see we were able to get a <b>5x</b> speed-up on 100K rows.\n",
    "\n",
    "|Number of rows| Trials| CPU | GPU|\n",
    "|-|-|-|-|\n",
    "|100K|10|64.83|12.97|\n",
    "|1M|10|-|60.14|\n",
    "|10M|10|-|464.03|"
   ]
  },
  {
   "cell_type": "markdown",
   "metadata": {},
   "source": [
    "## Visualization\n",
    "\n",
    "Let's look at some graphs to understand and visualize what we achieved in this notebook. \n",
    "\n",
    "The graph below shows the importance of a feature for the performance. We see that the `penalty` set in Logistic Regression and `K` from the Chi-square test have the highest importance in performance. This is expected as K selects the number of features to use during training."
   ]
  },
  {
   "cell_type": "code",
   "execution_count": 16,
   "metadata": {},
   "outputs": [
    {
     "data": {
      "image/png": "[encoded data removed]",
      "text/plain": [
       "<IPython.core.display.Image object>"
      ]
     },
     "execution_count": 16,
     "metadata": {},
     "output_type": "execute_result"
    }
   ],
   "source": [
    "from IPython.display import Image\n",
    "\n",
    "f = optuna.visualization.plot_param_importances(study)\n",
    "Image(f.to_image(format=\"png\", engine='kaleido'))"
   ]
  },
  {
   "cell_type": "markdown",
   "metadata": {},
   "source": [
    "The following is a slice plot to better understand the parameter relationships. We see how the change in the parameter affects the performance of the model."
   ]
  },
  {
   "cell_type": "code",
   "execution_count": 17,
   "metadata": {},
   "outputs": [
    {
     "data": {
      "image/png": "[encoded data removed]",
      "text/plain": [
       "<IPython.core.display.Image object>"
      ]
     },
     "execution_count": 17,
     "metadata": {},
     "output_type": "execute_result"
    }
   ],
   "source": [
    "f = optuna.visualization.plot_slice(study, params=['l1_ratio', 'C', 'KBestThresholdExplorer.k', 'penalty', 'fit_intercept'])\n",
    "Image(f.to_image(format=\"png\", engine='kaleido'))"
   ]
  },
  {
   "cell_type": "markdown",
   "metadata": {},
   "source": [
    "Let's plot the history of all trials in the study to see how the performance improvements took place within the study"
   ]
  },
  {
   "cell_type": "code",
   "execution_count": 18,
   "metadata": {},
   "outputs": [
    {
     "data": {
      "image/png": "[encoded data removed]",
      "text/plain": [
       "<IPython.core.display.Image object>"
      ]
     },
     "execution_count": 18,
     "metadata": {},
     "output_type": "execute_result"
    }
   ],
   "source": [
    "f = optuna.visualization.plot_optimization_history(study)\n",
    "Image(f.to_image(format=\"png\", engine='kaleido'))"
   ]
  },
  {
   "cell_type": "markdown",
   "metadata": {},
   "source": [
    "## Closing Thoughts\n",
    "\n",
    "We’ve seen how to use RAPIDS alongside xfeat and Optuna to get performance boosts in terms of run-time and AUC score. The notebook can serve as a starting point for anyone looking to get started on using GPUs to run Hyperparameter Optimization and Feature Engineering experiments. These can add value by yielding better performing models much faster than CPU runs.\n",
    "\n",
    "## Additional Reources\n",
    "\n",
    "Here are a few additional resources and reading for anyone interested:\n",
    "\n",
    "[How to Win a DS Kaggle competition](https://www.coursera.org/learn/competitive-data-science)\n",
    "\n",
    "[Target Encoding and Bayesian Target Encoding](https://towardsdatascience.com/target-encoding-and-bayesian-target-encoding-5c6a6c58ae8c)\n",
    "\n",
    "[Learn more about using MLFlow with RAPIDS](https://github.com/mlflow/mlflow/tree/master/examples/rapids/mlflow_project)\n",
    "\n",
    "[Algorithms for Hyper-Parameter Optimization](https://papers.nips.cc/paper/4443-algorithms-for-hyper-parameter-optimization.pdf)\n",
    "\n",
    "You can find the libraries here: [RAPIDS](https://rapids.ai/), [xfeat](https://github.com/pfnet-research/xfeat/tree/master/xfeat), [Optuna](https://optuna.readthedocs.io/en/stable/)"
   ]
  }
 ],
 "metadata": {
  "kernelspec": {
   "display_name": "Python 3",
   "language": "python",
   "name": "python3"
  },
  "language_info": {
   "codemirror_mode": {
    "name": "ipython",
    "version": 3
   },
   "file_extension": ".py",
   "mimetype": "text/x-python",
   "name": "python",
   "nbconvert_exporter": "python",
   "pygments_lexer": "ipython3",
   "version": "3.7.8"
  }
 },
 "nbformat": 4,
 "nbformat_minor": 4
}

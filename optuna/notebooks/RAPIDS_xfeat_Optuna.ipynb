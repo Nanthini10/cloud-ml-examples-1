{
 "cells": [
  {
   "cell_type": "markdown",
   "metadata": {},
   "source": [
    "# Improving model performance with xfeat, RAPIDS and Optuna\n",
    "\n",
    "\n",
    "## Introduction\n",
    "\n",
    "Feature Engineering is the processing of transforming raw data into features that can represent the underlying patterns of the data better. They can help boost the accuracy by a great deal and improve the ability of the model to generalise on unseen data. Every data scientist knows the importance feature engineering. Spending some time thinking about how best to apply and combine the available features can be very meaningful. \n",
    "\n",
    "Hyper parameter Optimisation is another such process which can help complement a good model by tuning it's hyperparameters, which can have a tremendous impact on the accuracy of the model. The time and resources required for these processes are generally the reason they're overlooked. \n",
    "\n",
    "With xfeat, RAPIDS and Optuna - we aim to bridge these gaps and elevate the performance. \n",
    "\n",
    "## What is Optuna?\n",
    "[Optuna](https://github.com/optuna/optuna) s a lightweight framework for automatic hyperparameter optimization. It provides a define-by-run API, which makes it easy to adapt to any already existing code that we have and enables high modularity and the flexibility to construct hyperparameter spaces dynamically. By simply wrapping the objective function with Optuna can help perform a parallel-distributed HPO search over a search space. As we'll see in this notebook.\n",
    "\n",
    "## What is xfeat?\n",
    "[xfeat](https://github.com/pfnet-research/xfeat) is a feature engineering & exploration library using GPUs and Optuna. It provides a scikit-learn-like API for feature engineering with support for pandas and cuDF dataframes and cuPy arrays. \n",
    "\n",
    "## What is RAPIDS?\n",
    "[RAPIDS](https://rapids.ai/about.html) framework  provides a library suite that can execute end-to-end data science pipelines entirely on GPUs.  The libraries in the framework include [cuDF](https://github.com/rapidsai/cudf) - a GPU Dataframe with pandas-like API, [cuML](https://github.com/rapidsai/cuml) - implement machine learning algorithms that provide a scikit-learn-like API and many more. You can learn more [here](https://github.com/rapidsai).\n",
    "\n",
    "In this notebook, we'll show how one can use these tools together to develop and improve a machine learning model. We'll use Airlines dataset (20M rows) to predict if a flight will be delayed or not. We'll explore how to use Optuna with RAPIDS and the speedups that we can achieve with the integration of these."
   ]
  },
  {
   "cell_type": "code",
   "execution_count": 1,
   "metadata": {},
   "outputs": [
    {
     "name": "stderr",
     "output_type": "stream",
     "text": [
      "/opt/conda/envs/rapids/lib/python3.6/site-packages/treelite/gallery/__init__.py:7: FutureWarning: treelite.gallery.sklearn has been moved to treelite.sklearn. treelite.gallery.sklearn will be removed in version 1.1.\n",
      "  FutureWarning)\n",
      "/opt/conda/envs/rapids/lib/python3.6/site-packages/treelite/gallery/sklearn/__init__.py:9: FutureWarning: treelite.gallery.sklearn has been moved to treelite.sklearn. treelite.gallery.sklearn will be removed in version 1.1.\n",
      "  FutureWarning)\n"
     ]
    }
   ],
   "source": [
    "from cuml import LogisticRegression\n",
    "import cudf\n",
    "import optuna\n",
    "from cuml.metrics import accuracy_score\n",
    "from cuml.preprocessing.model_selection import train_test_split\n",
    "import numpy as np\n",
    "from xfeat.pipeline import Pipeline\n",
    "from xfeat.num_encoder import SelectNumerical\n",
    "from xfeat.selector import ChiSquareKBest\n",
    "from xfeat.optuna_selector import KBestThresholdExplorer, GroupCombinationExplorer\n",
    "from cuml import LogisticRegression\n",
    "from functools import partial\n",
    "import xfeat\n",
    "from sklearn.model_selection import KFold\n",
    "\n",
    "from xfeat import ArithmeticCombinations, Pipeline, SelectNumerical, LabelEncoder, SelectCategorical, TargetEncoder"
   ]
  },
  {
   "cell_type": "markdown",
   "metadata": {},
   "source": [
    "### Feature Engineering\n",
    "\n",
    "We'll be using the following functions to perform a few featur engineering tasks on the data. The `feature_engineering` function is called on the dataframe `df`, in this function we perform a simple Arithmetic Combinations on the numerical columns that adds two columns to create a new one. We specify the `operator` and `r` - r is used to indicate how many columns need to be combined.\n",
    "\n",
    "Then we call `categorical_encoding` which converts the categorical columns to numerical ones and then performs `target_encoding`. Target Encoding replaces the value with the target mean. This is helpful in classification problem to boost the model accuracy. Find more resources at the end of the notebook.\n",
    "\n",
    "You'll also notice we use `Pipeline` from xfeat to combine two or more feature engineering tasks together. This is useful to concatenate encoders sequentially.\n",
    "\n",
    "Read more about Feature Encoding and Pipelining with xfeat [here](https://github.com/pfnet-research/xfeat/blob/master/_docs/feature_encoding.md)."
   ]
  },
  {
   "cell_type": "code",
   "execution_count": 2,
   "metadata": {},
   "outputs": [],
   "source": [
    "def feature_engineering(df):\n",
    "    \"\"\"\n",
    "    Perform feature engineering and return a new df with engineered features\n",
    "    \"\"\"\n",
    "    df_train, df_test, y_train, y_test = train_test_split(df, \"ArrDelayBinary\", train_size=0.7, random_state=np.random.seed(0), shuffle=True)\n",
    "\n",
    "    # Need to do this to ensure we are appropriately assigning the split values\n",
    "    # It introduces nulls when done directly as df[\"col\"] = x\n",
    "    df_train[\"ArrDelayBinary\"] = np.nan\n",
    "    df_train.loc[:, \"ArrDelayBinary\"] = y_train\n",
    "    df_test[\"ArrDelayBinary\"] = np.nan\n",
    "    df_test.loc[:, \"ArrDelayBinary\"] = y_test\n",
    "    \n",
    "    # combine into one pipeline\n",
    "    encoder = Pipeline([\n",
    "                        LabelEncoder(output_suffix=\"\"),\n",
    "                        TargetEncoder(target_col=\"ArrDelayBinary\", output_suffix=\"\"),\n",
    "                        ArithmeticCombinations(exclude_cols=[\"ArrDelayBinary\"],\n",
    "                                               drop_origin=False,\n",
    "                                               operator=\"+\",\n",
    "                                               r=2,\n",
    "                                               output_suffix=\"_plus\")\n",
    "                        \n",
    "                         \n",
    "    \n",
    "                    ])\n",
    "    df_train = encoder.fit_transform(df_train)\n",
    "    df_test = encoder.transform(df_test)\n",
    "    df = cudf.concat([df_train, df_test], sort=False)\n",
    "    return df"
   ]
  },
  {
   "cell_type": "markdown",
   "metadata": {},
   "source": [
    "### Feature Selection and Hyper parameter Optimisation\n",
    "\n",
    "Now that we have some new features, how do we know they are relevant for the task or represent anything meaningful? We use the feature selection process to do this. This helps in selection of a subset of features that are  most informative. This helps in simplifying the problem and ensures that we aren't overloading the system with unimportant features. Optuna provides a way to choose a `selector` which accepts a `Pipeline` object from xfeat. You can see in the `feature_selection` function we define a Pipeline that takes in an Explorer and a Selection Algorithm (`ChiSquareKBest`). We pass this to an Optuna Study object, along with an Objective function\n",
    "\n",
    "### Objective Function\n",
    "The objective function will be the one we optimize in Optuna Study. Objective funciton tries out different values for the parameters that we are tuning and saving the results in `study.trials_dataframes()`.\n",
    "\n",
    "Let's define the objective function for this HPO task by making use of the `train_and_eval()`. You can see that we simply choose a value for the parameters and call the `train_and_eval` method, making Optuna very easy to use in an existing workflow.\n",
    "\n",
    "The objective remains constant over different samplers, which are built-in options in Optuna to enable the selection of different sampling algorithms that optuna provides. Some of the available ones include - GridSampler, RandomSampler, TPESampler, etc. We'll use TPESampler for this demo, but feel free to try different samplers to notice the chnages in performance.\n",
    "\n",
    "\n",
    "### HPO Trials and Study\n",
    "Optuna uses [study](https://optuna.readthedocs.io/en/stable/reference/study.html) and [trials](https://optuna.readthedocs.io/en/stable/reference/trial.html) to keep track of the HPO experiments. Put simply, a trial is a single call of the objective function while a set of trials make up a study. We will pick the optimal performing trial from a study to get the best parameters that were used in that run."
   ]
  },
  {
   "cell_type": "code",
   "execution_count": 3,
   "metadata": {},
   "outputs": [],
   "source": [
    "def train_and_eval(df, penalty='l2', C=1.0, l1_ratio='None', fit_intercept='True', selector=None):\n",
    "\n",
    "    # Splitting data and prepping for selector fit\n",
    "    X_train,  X_test, y_train, y_test = train_test_split(df, \"ArrDelayBinary\",random_state=np.random.seed(0), shuffle=True)\n",
    "\n",
    "    if selector:\n",
    "        # For the selector, the label also needs to be in the DF\n",
    "        \n",
    "        # Need to do this to ensure we are appropriately assigning the split values\n",
    "        # It introduces nulls when done directly as df[\"col\"] = x\n",
    "        X_train[\"ArrDelayBinary\"] = np.nan\n",
    "        X_train.loc[:, \"ArrDelayBinary\"] = y_train\n",
    "        X_test[\"ArrDelayBinary\"] = np.nan\n",
    "        X_test.loc[:, \"ArrDelayBinary\"] = y_test\n",
    "        \n",
    "        X_train = selector.fit_transform(X_train)\n",
    "        X_test = selector.transform(X_test)\n",
    "    \n",
    "    # Train and get accuracy\n",
    "    classifier = LogisticRegression(penalty=penalty,\n",
    "                                    C=C,\n",
    "                                    l1_ratio=l1_ratio,\n",
    "                                    fit_intercept=fit_intercept,\n",
    "                                    max_iter=10000)\n",
    "    classifier.fit(X_train, y_train)\n",
    "    y_pred = classifier.predict_proba(X_test.values)[:, 1]\n",
    "    score = accuracy_score(y_test, y_pred)\n",
    "    return score\n",
    "\n",
    "def objective(df, selector, trial):\n",
    "    \"\"\"\n",
    "    Performs the training and evaluation of the set of parameters and subset of features using selector.\n",
    "    \"\"\"\n",
    "    selector.set_trial(trial)\n",
    "    \n",
    "    # Select Params\n",
    "    C = trial.suggest_uniform(\"C\", 0 , 7.0)\n",
    "    penalty = trial.suggest_categorical(\"penalty\", ['l1', 'none', 'l2'])\n",
    "    l1_ratio = trial.suggest_uniform(\"l1_ratio\", 0 , 1.0)\n",
    "    fit_intercept = trial.suggest_categorical(\"fit_intercept\", [True, False])\n",
    "    \n",
    "    score = train_and_eval(df,\n",
    "                           penalty=penalty,\n",
    "                           C=C,\n",
    "                           l1_ratio=l1_ratio,\n",
    "                           fit_intercept=fit_intercept,\n",
    "                          selector=selector)\n",
    "    return score\n",
    "\n",
    "def feature_selection(df):\n",
    "    \"\"\"\n",
    "    Defines the Pipeline and performs the optuna opt\n",
    "    \"\"\"\n",
    "    selector = Pipeline(\n",
    "        [\n",
    "            SelectNumerical(),\n",
    "            KBestThresholdExplorer(ChiSquareKBest(target_col=\"ArrDelayBinary\")),\n",
    "        ]\n",
    "    )\n",
    "\n",
    "    \n",
    "    study = optuna.create_study(direction=\"maximize\")\n",
    "    study.optimize(partial(objective, df, selector), n_trials=N_TRIALS)\n",
    "\n",
    "    selector.from_trial(study.best_trial)\n",
    "    selected_cols = selector.get_selected_cols()\n",
    "    \n",
    "    return study, df[selected_cols]"
   ]
  },
  {
   "cell_type": "code",
   "execution_count": 4,
   "metadata": {},
   "outputs": [],
   "source": [
    "INPUT_FILE = \"/home/hyperopt/hyperopt/data/air_par.parquet\"\n",
    "\n",
    "N_ROWS = 10000000\n",
    "N_TRIALS = 100"
   ]
  },
  {
   "cell_type": "code",
   "execution_count": 5,
   "metadata": {},
   "outputs": [
    {
     "name": "stdout",
     "output_type": "stream",
     "text": [
      "Default performance:  0.1875987946987152\n"
     ]
    }
   ],
   "source": [
    "df_ = cudf.read_parquet(INPUT_FILE)[:N_ROWS]\n",
    "\n",
    "df_ = df_.drop([\"ActualElapsedTime\"], axis=1)\n",
    "# Can't handle nagative values, yet\n",
    "# indices = df_.loc[df_[\"ActualElapsedTime\"] < 0].index\n",
    "# df_.loc[indices, \"ActualElapsedTime\"] = -1 * df_.loc[indices, \"ActualElapsedTime\"]\n",
    "\n",
    "# cuML can't handle object types\n",
    "df_[\"ArrDelayBinary\"] = df_[\"ArrDelayBinary\"].astype('int32')\n",
    "print(\"Default performance: \", train_and_eval(df_))"
   ]
  },
  {
   "cell_type": "code",
   "execution_count": 6,
   "metadata": {},
   "outputs": [],
   "source": [
    "# We cast to objects for categorical  and target encoding\n",
    "df_[\"UniqueCarrier\"] = df_[\"UniqueCarrier\"].astype(\"object\")\n",
    "df_[\"Origin\"] = df_[\"Origin\"].astype(\"object\")\n",
    "df_[\"Dest\"] = df_[\"Dest\"].astype(\"object\")\n",
    "df_[\"ArrDelayBinary\"] = df_[\"ArrDelayBinary\"].astype('int32')"
   ]
  },
  {
   "cell_type": "code",
   "execution_count": 7,
   "metadata": {},
   "outputs": [
    {
     "name": "stdout",
     "output_type": "stream",
     "text": [
      "After feature eng:  0.8115019798278809\n"
     ]
    }
   ],
   "source": [
    "df_feature_eng = feature_engineering(df_)\n",
    "print(\"After feature eng: \", train_and_eval(df_feature_eng))"
   ]
  },
  {
   "cell_type": "code",
   "execution_count": 8,
   "metadata": {},
   "outputs": [
    {
     "name": "stderr",
     "output_type": "stream",
     "text": [
      "[I 2020-07-16 16:01:52,631] Finished trial#0 with value: 0.8119096159934998 with parameters: {'C': 1.1704604735458646, 'penalty': 'none', 'l1_ratio': 0.3996027625828089, 'fit_intercept': True, 'KBestThresholdExplorer.k': 46.0}. Best is trial#0 with value: 0.8119096159934998.\n",
      "[I 2020-07-16 16:02:00,544] Finished trial#1 with value: 0.8118315935134888 with parameters: {'C': 0.5449011514426064, 'penalty': 'l1', 'l1_ratio': 0.7106452051766206, 'fit_intercept': False, 'KBestThresholdExplorer.k': 71.0}. Best is trial#0 with value: 0.8119096159934998.\n",
      "[I 2020-07-16 16:02:08,445] Finished trial#2 with value: 0.8119671940803528 with parameters: {'C': 6.220744902299951, 'penalty': 'l1', 'l1_ratio': 0.10636759985961242, 'fit_intercept': False, 'KBestThresholdExplorer.k': 72.0}. Best is trial#2 with value: 0.8119671940803528.\n",
      "[I 2020-07-16 16:02:16,046] Finished trial#3 with value: 0.8116515874862671 with parameters: {'C': 6.680750967256805, 'penalty': 'l2', 'l1_ratio': 0.5882468499527762, 'fit_intercept': False, 'KBestThresholdExplorer.k': 5.0}. Best is trial#2 with value: 0.8119671940803528.\n",
      "[I 2020-07-16 16:02:25,998] Finished trial#4 with value: 0.8117955923080444 with parameters: {'C': 5.033737267366003, 'penalty': 'l1', 'l1_ratio': 0.8971452780077305, 'fit_intercept': True, 'KBestThresholdExplorer.k': 63.0}. Best is trial#2 with value: 0.8119671940803528.\n",
      "[I 2020-07-16 16:02:35,601] Finished trial#5 with value: 0.8120123744010925 with parameters: {'C': 1.2295433339471673, 'penalty': 'none', 'l1_ratio': 0.021903588738005575, 'fit_intercept': False, 'KBestThresholdExplorer.k': 55.0}. Best is trial#5 with value: 0.8120123744010925.\n",
      "[I 2020-07-16 16:02:43,326] Finished trial#6 with value: 0.8115947842597961 with parameters: {'C': 5.623460419785581, 'penalty': 'l2', 'l1_ratio': 0.9447478969209611, 'fit_intercept': False, 'KBestThresholdExplorer.k': 65.0}. Best is trial#5 with value: 0.8120123744010925.\n",
      "[I 2020-07-16 16:02:50,957] Finished trial#7 with value: 0.8120272159576416 with parameters: {'C': 5.72926663151711, 'penalty': 'l2', 'l1_ratio': 0.235058714130991, 'fit_intercept': False, 'KBestThresholdExplorer.k': 12.0}. Best is trial#7 with value: 0.8120272159576416.\n",
      "[I 2020-07-16 16:03:01,133] Finished trial#8 with value: 0.8117396235466003 with parameters: {'C': 6.115529580300132, 'penalty': 'none', 'l1_ratio': 0.3866433867331508, 'fit_intercept': True, 'KBestThresholdExplorer.k': 73.0}. Best is trial#7 with value: 0.8120272159576416.\n",
      "[I 2020-07-16 16:03:08,811] Finished trial#9 with value: 0.8120043873786926 with parameters: {'C': 5.586151549491172, 'penalty': 'l1', 'l1_ratio': 0.05759962839134336, 'fit_intercept': True, 'KBestThresholdExplorer.k': 5.0}. Best is trial#7 with value: 0.8120272159576416.\n",
      "[I 2020-07-16 16:03:16,423] Finished trial#10 with value: 0.8116520047187805 with parameters: {'C': 3.6000187561007717, 'penalty': 'l2', 'l1_ratio': 0.23087091228825318, 'fit_intercept': False, 'KBestThresholdExplorer.k': 25.0}. Best is trial#7 with value: 0.8120272159576416.\n",
      "[I 2020-07-16 16:03:25,891] Finished trial#11 with value: 0.8117272257804871 with parameters: {'C': 1.9678107628201973, 'penalty': 'none', 'l1_ratio': 0.0026295655379065634, 'fit_intercept': False, 'KBestThresholdExplorer.k': 45.0}. Best is trial#7 with value: 0.8120272159576416.\n",
      "[I 2020-07-16 16:03:33,562] Finished trial#12 with value: 0.8119571805000305 with parameters: {'C': 3.5711653124787897, 'penalty': 'l2', 'l1_ratio': 0.22042172191150222, 'fit_intercept': False, 'KBestThresholdExplorer.k': 25.0}. Best is trial#7 with value: 0.8120272159576416.\n",
      "[I 2020-07-16 16:03:41,768] Finished trial#13 with value: 0.8120164275169373 with parameters: {'C': 2.158207370629678, 'penalty': 'none', 'l1_ratio': 0.21464195033340291, 'fit_intercept': False, 'KBestThresholdExplorer.k': 29.0}. Best is trial#7 with value: 0.8120272159576416.\n",
      "[I 2020-07-16 16:03:49,398] Finished trial#14 with value: 0.8115984201431274 with parameters: {'C': 2.5348802767113483, 'penalty': 'l2', 'l1_ratio': 0.2221300646426263, 'fit_intercept': False, 'KBestThresholdExplorer.k': 22.0}. Best is trial#7 with value: 0.8120272159576416.\n",
      "[I 2020-07-16 16:03:57,177] Finished trial#15 with value: 0.8118100166320801 with parameters: {'C': 4.423774352929922, 'penalty': 'none', 'l1_ratio': 0.4041821181325263, 'fit_intercept': False, 'KBestThresholdExplorer.k': 15.0}. Best is trial#7 with value: 0.8120272159576416.\n",
      "[I 2020-07-16 16:04:04,769] Finished trial#16 with value: 0.8116155862808228 with parameters: {'C': 2.586894724456921, 'penalty': 'l2', 'l1_ratio': 0.3042503046643062, 'fit_intercept': False, 'KBestThresholdExplorer.k': 32.0}. Best is trial#7 with value: 0.8120272159576416.\n",
      "[I 2020-07-16 16:04:12,437] Finished trial#17 with value: 0.811403214931488 with parameters: {'C': 4.702189731540956, 'penalty': 'none', 'l1_ratio': 0.5253979654386433, 'fit_intercept': False, 'KBestThresholdExplorer.k': 13.0}. Best is trial#7 with value: 0.8120272159576416.\n",
      "[I 2020-07-16 16:04:20,589] Finished trial#18 with value: 0.8115299940109253 with parameters: {'C': 0.07086628090370217, 'penalty': 'none', 'l1_ratio': 0.12903272136399155, 'fit_intercept': False, 'KBestThresholdExplorer.k': 34.0}. Best is trial#7 with value: 0.8120272159576416.\n",
      "[I 2020-07-16 16:04:28,170] Finished trial#19 with value: 0.8119419813156128 with parameters: {'C': 2.6678262612883232, 'penalty': 'l2', 'l1_ratio': 0.6609287465527396, 'fit_intercept': False, 'KBestThresholdExplorer.k': 14.0}. Best is trial#7 with value: 0.8120272159576416.\n",
      "[I 2020-07-16 16:04:36,819] Finished trial#20 with value: 0.8119896054267883 with parameters: {'C': 6.999109297845074, 'penalty': 'none', 'l1_ratio': 0.3149086182826835, 'fit_intercept': False, 'KBestThresholdExplorer.k': 37.0}. Best is trial#7 with value: 0.8120272159576416.\n",
      "[I 2020-07-16 16:04:46,173] Finished trial#21 with value: 0.8116616010665894 with parameters: {'C': 1.4903957551502751, 'penalty': 'none', 'l1_ratio': 0.0007298473684086149, 'fit_intercept': False, 'KBestThresholdExplorer.k': 54.0}. Best is trial#7 with value: 0.8120272159576416.\n",
      "[I 2020-07-16 16:04:54,110] Finished trial#22 with value: 0.8117803931236267 with parameters: {'C': 0.847354774705503, 'penalty': 'none', 'l1_ratio': 0.14329490725704944, 'fit_intercept': False, 'KBestThresholdExplorer.k': 53.0}. Best is trial#7 with value: 0.8120272159576416.\n",
      "[I 2020-07-16 16:05:01,719] Finished trial#23 with value: 0.8116735816001892 with parameters: {'C': 1.9984256638250586, 'penalty': 'none', 'l1_ratio': 0.02186900136383577, 'fit_intercept': False, 'KBestThresholdExplorer.k': 1.0}. Best is trial#7 with value: 0.8120272159576416.\n",
      "[I 2020-07-16 16:05:10,797] Finished trial#24 with value: 0.8119052052497864 with parameters: {'C': 1.9728568639906743, 'penalty': 'none', 'l1_ratio': 0.17154940487151976, 'fit_intercept': False, 'KBestThresholdExplorer.k': 44.0}. Best is trial#7 with value: 0.8120272159576416.\n",
      "[I 2020-07-16 16:05:18,710] Finished trial#25 with value: 0.8117427825927734 with parameters: {'C': 3.3454684603856903, 'penalty': 'none', 'l1_ratio': 0.3093402826917728, 'fit_intercept': False, 'KBestThresholdExplorer.k': 51.0}. Best is trial#7 with value: 0.8120272159576416.\n",
      "[I 2020-07-16 16:05:26,376] Finished trial#26 with value: 0.8115636110305786 with parameters: {'C': 0.2448904582538336, 'penalty': 'l2', 'l1_ratio': 0.10664085408079381, 'fit_intercept': False, 'KBestThresholdExplorer.k': 60.0}. Best is trial#7 with value: 0.8120272159576416.\n",
      "[I 2020-07-16 16:05:35,158] Finished trial#27 with value: 0.8117955923080444 with parameters: {'C': 1.431062864893185, 'penalty': 'none', 'l1_ratio': 0.4834097426752678, 'fit_intercept': True, 'KBestThresholdExplorer.k': 30.0}. Best is trial#7 with value: 0.8120272159576416.\n",
      "[I 2020-07-16 16:05:42,792] Finished trial#28 with value: 0.8120256066322327 with parameters: {'C': 3.966650938147831, 'penalty': 'l2', 'l1_ratio': 0.06186014431199246, 'fit_intercept': False, 'KBestThresholdExplorer.k': 19.0}. Best is trial#7 with value: 0.8120272159576416.\n",
      "[I 2020-07-16 16:05:50,494] Finished trial#29 with value: 0.8117644190788269 with parameters: {'C': 3.8346839952490033, 'penalty': 'l2', 'l1_ratio': 0.4096281066631931, 'fit_intercept': True, 'KBestThresholdExplorer.k': 20.0}. Best is trial#7 with value: 0.8120272159576416.\n",
      "[I 2020-07-16 16:05:58,112] Finished trial#30 with value: 0.8118540048599243 with parameters: {'C': 4.210986966297249, 'penalty': 'l2', 'l1_ratio': 0.20319434258788938, 'fit_intercept': False, 'KBestThresholdExplorer.k': 10.0}. Best is trial#7 with value: 0.8120272159576416.\n",
      "[I 2020-07-16 16:06:05,749] Finished trial#31 with value: 0.8119143843650818 with parameters: {'C': 3.0902222254207543, 'penalty': 'l2', 'l1_ratio': 0.06621486093064625, 'fit_intercept': False, 'KBestThresholdExplorer.k': 18.0}. Best is trial#7 with value: 0.8120272159576416.\n",
      "[I 2020-07-16 16:06:13,389] Finished trial#32 with value: 0.8116803765296936 with parameters: {'C': 1.075281168574159, 'penalty': 'l2', 'l1_ratio': 0.2707710872682966, 'fit_intercept': False, 'KBestThresholdExplorer.k': 28.0}. Best is trial#7 with value: 0.8120272159576416.\n",
      "[I 2020-07-16 16:06:20,936] Finished trial#33 with value: 0.8114507794380188 with parameters: {'C': 0.49516531298867106, 'penalty': 'l1', 'l1_ratio': 0.06457799188492722, 'fit_intercept': False, 'KBestThresholdExplorer.k': 10.0}. Best is trial#7 with value: 0.8120272159576416.\n",
      "[I 2020-07-16 16:06:28,715] Finished trial#34 with value: 0.8117712140083313 with parameters: {'C': 5.1473542185084575, 'penalty': 'l2', 'l1_ratio': 0.15125762988852387, 'fit_intercept': False, 'KBestThresholdExplorer.k': 78.0}. Best is trial#7 with value: 0.8120272159576416.\n",
      "[I 2020-07-16 16:06:37,671] Finished trial#35 with value: 0.8119564056396484 with parameters: {'C': 2.994042093977005, 'penalty': 'none', 'l1_ratio': 0.07807026576650081, 'fit_intercept': False, 'KBestThresholdExplorer.k': 40.0}. Best is trial#7 with value: 0.8120272159576416.\n",
      "[I 2020-07-16 16:06:45,216] Finished trial#36 with value: 0.8116639852523804 with parameters: {'C': 1.6042341703488527, 'penalty': 'l1', 'l1_ratio': 0.8117919945711015, 'fit_intercept': False, 'KBestThresholdExplorer.k': 3.0}. Best is trial#7 with value: 0.8120272159576416.\n",
      "[I 2020-07-16 16:06:52,812] Finished trial#37 with value: 0.811598002910614 with parameters: {'C': 6.291240268589194, 'penalty': 'l2', 'l1_ratio': 0.0019353472132912046, 'fit_intercept': False, 'KBestThresholdExplorer.k': 8.0}. Best is trial#7 with value: 0.8120272159576416.\n",
      "[I 2020-07-16 16:07:02,043] Finished trial#38 with value: 0.8117132186889648 with parameters: {'C': 4.043805948997056, 'penalty': 'none', 'l1_ratio': 0.3621629162672968, 'fit_intercept': True, 'KBestThresholdExplorer.k': 38.0}. Best is trial#7 with value: 0.8120272159576416.\n",
      "[I 2020-07-16 16:07:09,709] Finished trial#39 with value: 0.8118804097175598 with parameters: {'C': 5.616904268126637, 'penalty': 'l2', 'l1_ratio': 0.46978631180254715, 'fit_intercept': False, 'KBestThresholdExplorer.k': 25.0}. Best is trial#7 with value: 0.8120272159576416.\n",
      "[I 2020-07-16 16:07:17,308] Finished trial#40 with value: 0.8119872212409973 with parameters: {'C': 2.268490463942902, 'penalty': 'l1', 'l1_ratio': 0.26251109158262154, 'fit_intercept': False, 'KBestThresholdExplorer.k': 20.0}. Best is trial#7 with value: 0.8120272159576416.\n",
      "[I 2020-07-16 16:07:24,984] Finished trial#41 with value: 0.8116992115974426 with parameters: {'C': 5.5660910894196265, 'penalty': 'l1', 'l1_ratio': 0.04139027581216268, 'fit_intercept': True, 'KBestThresholdExplorer.k': 6.0}. Best is trial#7 with value: 0.8120272159576416.\n",
      "[I 2020-07-16 16:07:32,597] Finished trial#42 with value: 0.8117511868476868 with parameters: {'C': 6.541757714074857, 'penalty': 'l1', 'l1_ratio': 0.17363224441971203, 'fit_intercept': True, 'KBestThresholdExplorer.k': 1.0}. Best is trial#7 with value: 0.8120272159576416.\n",
      "[I 2020-07-16 16:07:40,306] Finished trial#43 with value: 0.8119131922721863 with parameters: {'C': 4.9927456659745175, 'penalty': 'l1', 'l1_ratio': 0.05652375019079009, 'fit_intercept': True, 'KBestThresholdExplorer.k': 17.0}. Best is trial#7 with value: 0.8120272159576416.\n",
      "[I 2020-07-16 16:07:48,004] Finished trial#44 with value: 0.8114464282989502 with parameters: {'C': 5.9259374961922635, 'penalty': 'l1', 'l1_ratio': 0.08265887485729018, 'fit_intercept': True, 'KBestThresholdExplorer.k': 11.0}. Best is trial#7 with value: 0.8120272159576416.\n",
      "[I 2020-07-16 16:07:55,913] Finished trial#45 with value: 0.8116948008537292 with parameters: {'C': 5.276067350844843, 'penalty': 'l1', 'l1_ratio': 0.11487967235588255, 'fit_intercept': True, 'KBestThresholdExplorer.k': 23.0}. Best is trial#7 with value: 0.8120272159576416.\n",
      "[I 2020-07-16 16:08:03,682] Finished trial#46 with value: 0.8119208216667175 with parameters: {'C': 4.668272942413059, 'penalty': 'l2', 'l1_ratio': 0.19132518120878036, 'fit_intercept': True, 'KBestThresholdExplorer.k': 28.0}. Best is trial#7 with value: 0.8120272159576416.\n",
      "[I 2020-07-16 16:08:11,374] Finished trial#47 with value: 0.8118883967399597 with parameters: {'C': 6.801095772464639, 'penalty': 'none', 'l1_ratio': 0.2501784340045824, 'fit_intercept': False, 'KBestThresholdExplorer.k': 5.0}. Best is trial#7 with value: 0.8120272159576416.\n",
      "[I 2020-07-16 16:08:19,102] Finished trial#48 with value: 0.8118119835853577 with parameters: {'C': 6.015728261781562, 'penalty': 'l2', 'l1_ratio': 0.020872175933315133, 'fit_intercept': False, 'KBestThresholdExplorer.k': 64.0}. Best is trial#7 with value: 0.8120272159576416.\n",
      "[I 2020-07-16 16:08:27,394] Finished trial#49 with value: 0.8119804263114929 with parameters: {'C': 0.9730184665159369, 'penalty': 'none', 'l1_ratio': 0.11367333157529713, 'fit_intercept': False, 'KBestThresholdExplorer.k': 34.0}. Best is trial#7 with value: 0.8120272159576416.\n",
      "[I 2020-07-16 16:08:35,095] Finished trial#50 with value: 0.8116903901100159 with parameters: {'C': 0.6559218433011087, 'penalty': 'l1', 'l1_ratio': 0.3454579872893779, 'fit_intercept': True, 'KBestThresholdExplorer.k': 16.0}. Best is trial#7 with value: 0.8120272159576416.\n",
      "[I 2020-07-16 16:08:43,795] Finished trial#51 with value: 0.811820387840271 with parameters: {'C': 6.999062528925304, 'penalty': 'none', 'l1_ratio': 0.29526962198753154, 'fit_intercept': False, 'KBestThresholdExplorer.k': 38.0}. Best is trial#7 with value: 0.8120272159576416.\n",
      "[I 2020-07-16 16:08:52,778] Finished trial#52 with value: 0.8120211958885193 with parameters: {'C': 6.467260898545097, 'penalty': 'none', 'l1_ratio': 0.4309468458884318, 'fit_intercept': False, 'KBestThresholdExplorer.k': 42.0}. Best is trial#7 with value: 0.8120272159576416.\n",
      "[I 2020-07-16 16:09:02,392] Finished trial#53 with value: 0.811540424823761 with parameters: {'C': 5.930998145279527, 'penalty': 'none', 'l1_ratio': 0.5841954656218454, 'fit_intercept': False, 'KBestThresholdExplorer.k': 43.0}. Best is trial#7 with value: 0.8120272159576416.\n",
      "[I 2020-07-16 16:09:12,372] Finished trial#54 with value: 0.811708390712738 with parameters: {'C': 6.3915584444801965, 'penalty': 'none', 'l1_ratio': 0.6677409115148288, 'fit_intercept': False, 'KBestThresholdExplorer.k': 50.0}. Best is trial#7 with value: 0.8120272159576416.\n",
      "[I 2020-07-16 16:09:21,665] Finished trial#55 with value: 0.8120676279067993 with parameters: {'C': 5.3166671315511, 'penalty': 'none', 'l1_ratio': 0.44784099249407855, 'fit_intercept': False, 'KBestThresholdExplorer.k': 56.0}. Best is trial#55 with value: 0.8120676279067993.\n",
      "[I 2020-07-16 16:09:31,571] Finished trial#56 with value: 0.8120312094688416 with parameters: {'C': 5.314374227356724, 'penalty': 'none', 'l1_ratio': 0.4247041343555557, 'fit_intercept': False, 'KBestThresholdExplorer.k': 58.0}. Best is trial#55 with value: 0.8120676279067993.\n",
      "[I 2020-07-16 16:09:41,217] Finished trial#57 with value: 0.8115783929824829 with parameters: {'C': 4.817717031620896, 'penalty': 'none', 'l1_ratio': 0.44223176350617016, 'fit_intercept': False, 'KBestThresholdExplorer.k': 59.0}. Best is trial#55 with value: 0.8120676279067993.\n",
      "[I 2020-07-16 16:09:51,054] Finished trial#58 with value: 0.811978816986084 with parameters: {'C': 5.353787026531055, 'penalty': 'none', 'l1_ratio': 0.5230459744860888, 'fit_intercept': False, 'KBestThresholdExplorer.k': 69.0}. Best is trial#55 with value: 0.8120676279067993.\n",
      "[I 2020-07-16 16:10:00,427] Finished trial#59 with value: 0.8119391798973083 with parameters: {'C': 4.490971711258307, 'penalty': 'none', 'l1_ratio': 0.4436572676898509, 'fit_intercept': False, 'KBestThresholdExplorer.k': 58.0}. Best is trial#55 with value: 0.8120676279067993.\n",
      "[I 2020-07-16 16:10:10,967] Finished trial#60 with value: 0.8116931915283203 with parameters: {'C': 5.77573607006584, 'penalty': 'none', 'l1_ratio': 0.35429342178472617, 'fit_intercept': False, 'KBestThresholdExplorer.k': 50.0}. Best is trial#55 with value: 0.8120676279067993.\n",
      "[I 2020-07-16 16:10:20,747] Finished trial#61 with value: 0.8115519881248474 with parameters: {'C': 5.364229655531642, 'penalty': 'none', 'l1_ratio': 0.5745041587146819, 'fit_intercept': False, 'KBestThresholdExplorer.k': 57.0}. Best is trial#55 with value: 0.8120676279067993.\n",
      "[I 2020-07-16 16:10:30,414] Finished trial#62 with value: 0.8118652105331421 with parameters: {'C': 6.1828047762773695, 'penalty': 'none', 'l1_ratio': 0.41800118688377924, 'fit_intercept': False, 'KBestThresholdExplorer.k': 68.0}. Best is trial#55 with value: 0.8120676279067993.\n",
      "[I 2020-07-16 16:10:40,595] Finished trial#63 with value: 0.8116875886917114 with parameters: {'C': 1.4017946936930543, 'penalty': 'none', 'l1_ratio': 0.5208195949360108, 'fit_intercept': False, 'KBestThresholdExplorer.k': 48.0}. Best is trial#55 with value: 0.8120676279067993.\n",
      "[I 2020-07-16 16:10:50,191] Finished trial#64 with value: 0.811932384967804 with parameters: {'C': 6.7076578960842195, 'penalty': 'none', 'l1_ratio': 0.5577769712239253, 'fit_intercept': False, 'KBestThresholdExplorer.k': 62.0}. Best is trial#55 with value: 0.8120676279067993.\n",
      "[I 2020-07-16 16:11:00,174] Finished trial#65 with value: 0.8118911981582642 with parameters: {'C': 1.788172456498522, 'penalty': 'none', 'l1_ratio': 0.36532620250331727, 'fit_intercept': False, 'KBestThresholdExplorer.k': 55.0}. Best is trial#55 with value: 0.8120676279067993.\n",
      "[I 2020-07-16 16:11:10,090] Finished trial#66 with value: 0.8118703961372375 with parameters: {'C': 3.6991675591716664, 'penalty': 'none', 'l1_ratio': 0.44757601629001914, 'fit_intercept': False, 'KBestThresholdExplorer.k': 47.0}. Best is trial#55 with value: 0.8120676279067993.\n",
      "[I 2020-07-16 16:11:17,838] Finished trial#67 with value: 0.8118095993995667 with parameters: {'C': 2.2697048126012827, 'penalty': 'l2', 'l1_ratio': 0.6324976669081839, 'fit_intercept': False, 'KBestThresholdExplorer.k': 56.0}. Best is trial#55 with value: 0.8120676279067993.\n",
      "[I 2020-07-16 16:11:27,659] Finished trial#68 with value: 0.8119571805000305 with parameters: {'C': 4.915122720095206, 'penalty': 'none', 'l1_ratio': 0.3823671128002027, 'fit_intercept': False, 'KBestThresholdExplorer.k': 61.0}. Best is trial#55 with value: 0.8120676279067993.\n",
      "[I 2020-07-16 16:11:35,611] Finished trial#69 with value: 0.8120192289352417 with parameters: {'C': 3.4007052305983447, 'penalty': 'none', 'l1_ratio': 0.2263240324952685, 'fit_intercept': False, 'KBestThresholdExplorer.k': 53.0}. Best is trial#55 with value: 0.8120676279067993.\n",
      "[I 2020-07-16 16:11:44,872] Finished trial#70 with value: 0.8115051984786987 with parameters: {'C': 3.3987993693144185, 'penalty': 'none', 'l1_ratio': 0.2882491127726462, 'fit_intercept': False, 'KBestThresholdExplorer.k': 41.0}. Best is trial#55 with value: 0.8120676279067993.\n",
      "[I 2020-07-16 16:11:55,001] Finished trial#71 with value: 0.8111640214920044 with parameters: {'C': 4.282876187071056, 'penalty': 'none', 'l1_ratio': 0.22826047260129265, 'fit_intercept': False, 'KBestThresholdExplorer.k': 51.0}. Best is trial#55 with value: 0.8120676279067993.\n",
      "[I 2020-07-16 16:12:02,891] Finished trial#72 with value: 0.8113948106765747 with parameters: {'C': 3.062712210517324, 'penalty': 'none', 'l1_ratio': 0.32157501188020327, 'fit_intercept': False, 'KBestThresholdExplorer.k': 53.0}. Best is trial#55 with value: 0.8120676279067993.\n",
      "[I 2020-07-16 16:12:12,695] Finished trial#73 with value: 0.8116351962089539 with parameters: {'C': 2.850731210142381, 'penalty': 'none', 'l1_ratio': 0.49376160329811947, 'fit_intercept': False, 'KBestThresholdExplorer.k': 65.0}. Best is trial#55 with value: 0.8120676279067993.\n",
      "[I 2020-07-16 16:12:20,335] Finished trial#74 with value: 0.8118056058883667 with parameters: {'C': 2.3055494736355104, 'penalty': 'l2', 'l1_ratio': 0.1554199110365446, 'fit_intercept': False, 'KBestThresholdExplorer.k': 35.0}. Best is trial#55 with value: 0.8120676279067993.\n",
      "[I 2020-07-16 16:12:28,124] Finished trial#75 with value: 0.8118619918823242 with parameters: {'C': 4.049681812426514, 'penalty': 'none', 'l1_ratio': 0.33395748687313975, 'fit_intercept': False, 'KBestThresholdExplorer.k': 13.0}. Best is trial#55 with value: 0.8120676279067993.\n",
      "[I 2020-07-16 16:12:35,855] Finished trial#76 with value: 0.8116992115974426 with parameters: {'C': 5.724330669153004, 'penalty': 'l2', 'l1_ratio': 0.21186871489118692, 'fit_intercept': False, 'KBestThresholdExplorer.k': 53.0}. Best is trial#55 with value: 0.8120676279067993.\n",
      "[I 2020-07-16 16:12:45,297] Finished trial#77 with value: 0.8113160133361816 with parameters: {'C': 6.498066882746194, 'penalty': 'none', 'l1_ratio': 0.4096026735056211, 'fit_intercept': False, 'KBestThresholdExplorer.k': 45.0}. Best is trial#55 with value: 0.8120676279067993.\n",
      "[I 2020-07-16 16:12:53,715] Finished trial#78 with value: 0.8117364048957825 with parameters: {'C': 4.576117576592926, 'penalty': 'none', 'l1_ratio': 0.2551113015575203, 'fit_intercept': False, 'KBestThresholdExplorer.k': 28.0}. Best is trial#55 with value: 0.8120676279067993.\n",
      "[I 2020-07-16 16:13:01,526] Finished trial#79 with value: 0.8117520213127136 with parameters: {'C': 3.2562813632511847, 'penalty': 'l2', 'l1_ratio': 0.17132714331201826, 'fit_intercept': False, 'KBestThresholdExplorer.k': 73.0}. Best is trial#55 with value: 0.8120676279067993.\n",
      "[I 2020-07-16 16:13:09,561] Finished trial#80 with value: 0.8114684224128723 with parameters: {'C': 5.077549380339694, 'penalty': 'none', 'l1_ratio': 0.09244094299510117, 'fit_intercept': False, 'KBestThresholdExplorer.k': 20.0}. Best is trial#55 with value: 0.8120676279067993.\n",
      "[I 2020-07-16 16:13:17,171] Finished trial#81 with value: 0.8118615746498108 with parameters: {'C': 5.469932087076313, 'penalty': 'l1', 'l1_ratio': 0.014875356135135201, 'fit_intercept': True, 'KBestThresholdExplorer.k': 3.0}. Best is trial#55 with value: 0.8120676279067993.\n",
      "[I 2020-07-16 16:13:24,674] Finished trial#82 with value: 0.8119711875915527 with parameters: {'C': 5.223739184193236, 'penalty': 'l2', 'l1_ratio': 0.04298912692305243, 'fit_intercept': False, 'KBestThresholdExplorer.k': 12.0}. Best is trial#55 with value: 0.8120676279067993.\n",
      "[I 2020-07-16 16:13:32,308] Finished trial#83 with value: 0.8117291927337646 with parameters: {'C': 2.682606701075082, 'penalty': 'none', 'l1_ratio': 0.38586109808851904, 'fit_intercept': False, 'KBestThresholdExplorer.k': 9.0}. Best is trial#55 with value: 0.8120676279067993.\n",
      "[I 2020-07-16 16:13:41,045] Finished trial#84 with value: 0.811546802520752 with parameters: {'C': 6.11261330969701, 'penalty': 'none', 'l1_ratio': 0.1359530051797183, 'fit_intercept': False, 'KBestThresholdExplorer.k': 31.0}. Best is trial#55 with value: 0.8120676279067993.\n",
      "[I 2020-07-16 16:13:48,972] Finished trial#85 with value: 0.8117815852165222 with parameters: {'C': 5.766781671944678, 'penalty': 'l1', 'l1_ratio': 0.19345356734739994, 'fit_intercept': True, 'KBestThresholdExplorer.k': 23.0}. Best is trial#55 with value: 0.8120676279067993.\n",
      "[I 2020-07-16 16:13:56,697] Finished trial#86 with value: 0.8115484118461609 with parameters: {'C': 1.2321840697466104, 'penalty': 'l2', 'l1_ratio': 0.4673200170389883, 'fit_intercept': False, 'KBestThresholdExplorer.k': 59.0}. Best is trial#55 with value: 0.8120676279067993.\n",
      "[I 2020-07-16 16:14:05,854] Finished trial#87 with value: 0.8119152188301086 with parameters: {'C': 5.514626414699313, 'penalty': 'none', 'l1_ratio': 0.12576226910083266, 'fit_intercept': False, 'KBestThresholdExplorer.k': 42.0}. Best is trial#55 with value: 0.8120676279067993.\n",
      "[I 2020-07-16 16:14:15,674] Finished trial#88 with value: 0.8115503787994385 with parameters: {'C': 4.8081624732262815, 'penalty': 'none', 'l1_ratio': 0.7714457221980815, 'fit_intercept': False, 'KBestThresholdExplorer.k': 48.0}. Best is trial#55 with value: 0.8120676279067993.\n",
      "[I 2020-07-16 16:14:23,361] Finished trial#89 with value: 0.8119127750396729 with parameters: {'C': 0.3098145699826511, 'penalty': 'l2', 'l1_ratio': 0.27770835960444373, 'fit_intercept': True, 'KBestThresholdExplorer.k': 15.0}. Best is trial#55 with value: 0.8120676279067993.\n",
      "[I 2020-07-16 16:14:31,011] Finished trial#90 with value: 0.8115935921669006 with parameters: {'C': 2.08827726401775, 'penalty': 'l1', 'l1_ratio': 0.5443692232216822, 'fit_intercept': False, 'KBestThresholdExplorer.k': 7.0}. Best is trial#55 with value: 0.8120676279067993.\n",
      "[I 2020-07-16 16:14:39,831] Finished trial#91 with value: 0.8116828203201294 with parameters: {'C': 6.925898017700116, 'penalty': 'none', 'l1_ratio': 0.41820884107956263, 'fit_intercept': False, 'KBestThresholdExplorer.k': 37.0}. Best is trial#55 with value: 0.8120676279067993.\n",
      "[I 2020-07-16 16:14:49,344] Finished trial#92 with value: 0.8115531802177429 with parameters: {'C': 6.530643284775062, 'penalty': 'none', 'l1_ratio': 0.23465135446248547, 'fit_intercept': False, 'KBestThresholdExplorer.k': 55.0}. Best is trial#55 with value: 0.8120676279067993.\n",
      "[I 2020-07-16 16:14:57,832] Finished trial#93 with value: 0.8119199872016907 with parameters: {'C': 6.3036055801289645, 'penalty': 'none', 'l1_ratio': 0.24660798753652205, 'fit_intercept': False, 'KBestThresholdExplorer.k': 26.0}. Best is trial#55 with value: 0.8120676279067993.\n",
      "[I 2020-07-16 16:15:06,925] Finished trial#94 with value: 0.812171995639801 with parameters: {'C': 1.6862352497863953, 'penalty': 'none', 'l1_ratio': 0.04097929441331606, 'fit_intercept': False, 'KBestThresholdExplorer.k': 36.0}. Best is trial#94 with value: 0.812171995639801.\n",
      "[I 2020-07-16 16:15:15,443] Finished trial#95 with value: 0.811456024646759 with parameters: {'C': 1.7780332935793894, 'penalty': 'none', 'l1_ratio': 0.050505617131455044, 'fit_intercept': False, 'KBestThresholdExplorer.k': 33.0}. Best is trial#94 with value: 0.812171995639801.\n",
      "[I 2020-07-16 16:15:25,308] Finished trial#96 with value: 0.8120691776275635 with parameters: {'C': 1.2887784459469345, 'penalty': 'none', 'l1_ratio': 0.09522817313698104, 'fit_intercept': False, 'KBestThresholdExplorer.k': 66.0}. Best is trial#94 with value: 0.812171995639801.\n",
      "[I 2020-07-16 16:15:34,689] Finished trial#97 with value: 0.811305582523346 with parameters: {'C': 0.775905795311516, 'penalty': 'none', 'l1_ratio': 0.08928462216512426, 'fit_intercept': False, 'KBestThresholdExplorer.k': 65.0}. Best is trial#94 with value: 0.812171995639801.\n",
      "[I 2020-07-16 16:15:44,511] Finished trial#98 with value: 0.8119180202484131 with parameters: {'C': 1.2935642541281145, 'penalty': 'none', 'l1_ratio': 0.030545697053540294, 'fit_intercept': False, 'KBestThresholdExplorer.k': 76.0}. Best is trial#94 with value: 0.812171995639801.\n",
      "[I 2020-07-16 16:15:55,000] Finished trial#99 with value: 0.811928391456604 with parameters: {'C': 1.7449692230811353, 'penalty': 'none', 'l1_ratio': 0.06869808113888454, 'fit_intercept': False, 'KBestThresholdExplorer.k': 60.0}. Best is trial#94 with value: 0.812171995639801.\n",
      "Optuna selector is not last component.\n"
     ]
    }
   ],
   "source": [
    "study, df_select = feature_selection(df_feature_eng)"
   ]
  },
  {
   "cell_type": "code",
   "execution_count": 9,
   "metadata": {},
   "outputs": [],
   "source": [
    "df_select[\"ArrDelayBinary\"] = df_[\"ArrDelayBinary\"]"
   ]
  },
  {
   "cell_type": "code",
   "execution_count": 10,
   "metadata": {},
   "outputs": [
    {
     "data": {
      "text/plain": [
       "Index(['CRSDepTime', 'CRSArrTime', 'Origin', 'Distance', 'YearCRSArrTime_plus',\n",
       "       'YearDistance_plus', 'MonthCRSDepTime_plus', 'MonthCRSArrTime_plus',\n",
       "       'MonthFlightNum_plus', 'MonthOrigin_plus', 'MonthDest_plus',\n",
       "       'MonthDistance_plus', 'DayofMonthCRSArrTime_plus',\n",
       "       'DayofMonthDistance_plus', 'DayofWeekCRSDepTime_plus',\n",
       "       'DayofWeekCRSArrTime_plus', 'DayofWeekDistance_plus',\n",
       "       'CRSDepTimeCRSArrTime_plus', 'CRSDepTimeUniqueCarrier_plus',\n",
       "       'CRSDepTimeFlightNum_plus', 'CRSDepTimeOrigin_plus',\n",
       "       'CRSDepTimeDest_plus', 'CRSDepTimeDistance_plus',\n",
       "       'CRSArrTimeUniqueCarrier_plus', 'CRSArrTimeFlightNum_plus',\n",
       "       'CRSArrTimeOrigin_plus', 'CRSArrTimeDest_plus',\n",
       "       'CRSArrTimeDistance_plus', 'UniqueCarrierDistance_plus',\n",
       "       'FlightNumOrigin_plus', 'FlightNumDest_plus', 'FlightNumDistance_plus',\n",
       "       'OriginDest_plus', 'OriginDistance_plus', 'DestDistance_plus',\n",
       "       'DistanceDiverted_plus', 'ArrDelayBinary'],\n",
       "      dtype='object')"
      ]
     },
     "execution_count": 10,
     "metadata": {},
     "output_type": "execute_result"
    }
   ],
   "source": [
    "df_select.columns"
   ]
  },
  {
   "cell_type": "code",
   "execution_count": 11,
   "metadata": {},
   "outputs": [
    {
     "name": "stdout",
     "output_type": "stream",
     "text": [
      "After feature selection and paramter tuning:  0.8124812245368958\n"
     ]
    }
   ],
   "source": [
    "params = study.best_params\n",
    "print(\"After feature selection and paramter tuning: \", train_and_eval(df_select,\n",
    "                                                                      C=params['C'],\n",
    "                                                                      penalty=params['penalty'],\n",
    "                                                                      l1_ratio=params['l1_ratio'],\n",
    "                                                                      fit_intercept=params['fit_intercept']))"
   ]
  },
  {
   "cell_type": "code",
   "execution_count": 12,
   "metadata": {},
   "outputs": [],
   "source": [
    "# study.trials_dataframe().to_csv(\"xfeat_chi2_100Trials_run3_catenc.csv\", header=True)"
   ]
  },
  {
   "cell_type": "code",
   "execution_count": 13,
   "metadata": {},
   "outputs": [
    {
     "name": "stdout",
     "output_type": "stream",
     "text": [
      "{'C': 1.6862352497863953, 'penalty': 'none', 'l1_ratio': 0.04097929441331606, 'fit_intercept': False, 'KBestThresholdExplorer.k': 36.0}\n"
     ]
    }
   ],
   "source": [
    "print(params)"
   ]
  },
  {
   "cell_type": "markdown",
   "metadata": {},
   "source": [
    "\n",
    "|Run No.|Default|After FE| Optuna Best| After Selection and HPO|Best Params| Cols|\n",
    "|-|-|-|-|-|-|-|\n",
    "|1|0.18747319281101227|0.18743759393692017|0.812965989112854|0.8126764297485352| {'C': 2.7250515887031064,'penalty': 'l2','l1_ratio':0.1403560039741595, 'fit_intercept': True, 'KBestThresholdExplorer.k': 1.0} |['UniqueCarrierFlightNum_plus', 'ArrDelayBinary']|\n",
    "|2|0.18741360306739807|0.1874103993177414|0.812959611415863|0.8120356202125549|{'C': 3.398344321379011,'penalty': 'none','l1_ratio': 0.5549805266380305,'fit_intercept': True,'KBestThresholdExplorer.k': 1.0}|['FlightNumDistance_plus', 'ArrDelayBinary']|\n",
    "|3|0.18733720481395721|0.18729199469089508|0.8128544092178345|0.812743604183197|{'C': 4.202429766198819, 'penalty': 'none', 'l1_ratio': 0.6571582748501704, 'fit_intercept': False, 'KBestThresholdExplorer.k': 1.0}|['UniqueCarrierFlightNum_plus', 'ArrDelayBinary']|"
   ]
  },
  {
   "cell_type": "markdown",
   "metadata": {},
   "source": [
    "## Additional Resources\n",
    "[How to Win a DS Kaggle competition](https://www.coursera.org/learn/competitive-data-science)\n",
    "\n",
    "[Target Encoding and Bayesian Target Encoding](https://towardsdatascience.com/target-encoding-and-bayesian-target-encoding-5c6a6c58ae8c)\n"
   ]
  },
  {
   "cell_type": "code",
   "execution_count": null,
   "metadata": {},
   "outputs": [],
   "source": []
  }
 ],
 "metadata": {
  "kernelspec": {
   "display_name": "Python 3",
   "language": "python",
   "name": "python3"
  },
  "language_info": {
   "codemirror_mode": {
    "name": "ipython",
    "version": 3
   },
   "file_extension": ".py",
   "mimetype": "text/x-python",
   "name": "python",
   "nbconvert_exporter": "python",
   "pygments_lexer": "ipython3",
   "version": "3.6.10"
  }
 },
 "nbformat": 4,
 "nbformat_minor": 4
}

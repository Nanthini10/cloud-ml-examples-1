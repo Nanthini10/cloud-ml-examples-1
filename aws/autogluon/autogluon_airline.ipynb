{
 "cells": [
  {
   "cell_type": "markdown",
   "id": "ea182239",
   "metadata": {},
   "source": [
    "# Import AutoGluon"
   ]
  },
  {
   "cell_type": "code",
   "execution_count": null,
   "id": "46772e4b",
   "metadata": {},
   "outputs": [],
   "source": [
    "import warnings\n",
    "warnings.filterwarnings('ignore')"
   ]
  },
  {
   "cell_type": "code",
   "execution_count": null,
   "id": "22c964fb",
   "metadata": {},
   "outputs": [],
   "source": [
    "from autogluon.tabular import TabularDataset, TabularPredictor\n",
    "from autogluon.core.utils import generate_train_test_split"
   ]
  },
  {
   "cell_type": "markdown",
   "id": "c386f5af",
   "metadata": {},
   "source": [
    "# Download Data and Create TabularDataset Object"
   ]
  },
  {
   "cell_type": "code",
   "execution_count": null,
   "id": "a65cece2",
   "metadata": {},
   "outputs": [],
   "source": [
    "path_prefix = 'https://autogluon.s3.amazonaws.com/datasets/airlines/all/'\n",
    "path_train = path_prefix + 'train_data.parquet'\n",
    "\n",
    "https://autogluon.s3.amazonaws.com/datasets/airlines/all/train_data.parquet\n",
    "\n",
    "data = TabularDataset(path_train)"
   ]
  },
  {
   "cell_type": "code",
   "execution_count": null,
   "id": "64cba18e",
   "metadata": {},
   "outputs": [],
   "source": [
    "data"
   ]
  },
  {
   "cell_type": "markdown",
   "id": "1591eb72",
   "metadata": {},
   "source": [
    "# Randomly Sample 1Million Flights"
   ]
  },
  {
   "cell_type": "code",
   "execution_count": null,
   "id": "b7eb47af",
   "metadata": {},
   "outputs": [],
   "source": [
    "LABEL = 'target'\n",
    "SAMPLE = 1_000_000"
   ]
  },
  {
   "cell_type": "code",
   "execution_count": null,
   "id": "7d7f99bd",
   "metadata": {},
   "outputs": [],
   "source": [
    "if SAMPLE is not None and SAMPLE < len(data):\n",
    "    data = data.sample(n=SAMPLE, random_state=0)"
   ]
  },
  {
   "cell_type": "code",
   "execution_count": null,
   "id": "c48c3886",
   "metadata": {},
   "outputs": [],
   "source": [
    "data.shape"
   ]
  },
  {
   "cell_type": "markdown",
   "id": "f13bc486",
   "metadata": {},
   "source": [
    "# Split Train and Test Data"
   ]
  },
  {
   "cell_type": "code",
   "execution_count": null,
   "id": "d04ddf4c",
   "metadata": {},
   "outputs": [],
   "source": [
    "train_data, test_data, train_labels, test_labels = generate_train_test_split(\n",
    "    X=data.drop(LABEL, axis=1),\n",
    "    y=data[LABEL],\n",
    "    problem_type='binary',\n",
    "    test_size=0.1\n",
    ")\n",
    "train_data[LABEL] = train_labels\n",
    "test_data[LABEL] = test_labels"
   ]
  },
  {
   "cell_type": "markdown",
   "id": "ef3155d6",
   "metadata": {},
   "source": [
    "# Run AutoGluon with Multiple RAPIDS Models"
   ]
  },
  {
   "cell_type": "code",
   "execution_count": null,
   "id": "2d4f8609",
   "metadata": {},
   "outputs": [],
   "source": [
    "from autogluon.tabular.models.rf.rf_rapids_model import RFRapidsModel\n",
    "from autogluon.tabular.models.knn.knn_rapids_model import KNNRapidsModel\n",
    "from autogluon.tabular.models.lr.lr_rapids_model import LinearRapidsModel\n",
    "\n",
    "predictor = TabularPredictor(\n",
    "    label=LABEL,\n",
    "    verbosity=3,\n",
    ").fit(\n",
    "    train_data=train_data,\n",
    "    hyperparameters={        \n",
    "        KNNRapidsModel : {},\n",
    "        LinearRapidsModel : {},\n",
    "        RFRapidsModel : {'n_estimators': 100},\n",
    "        'XGB': {'ag_args_fit': {'num_gpus': 1},  'tree_method': 'gpu_hist', 'ag.early_stop': 10000},\n",
    "    },\n",
    "    time_limit=2000,\n",
    ")\n",
    "\n",
    "leaderboard = predictor.leaderboard()\n",
    "\n",
    "leaderboard = predictor.leaderboard(test_data)"
   ]
  }
 ],
 "metadata": {
  "kernelspec": {
   "display_name": "Python 3",
   "language": "python",
   "name": "python3"
  },
  "language_info": {
   "codemirror_mode": {
    "name": "ipython",
    "version": 3
   },
   "file_extension": ".py",
   "mimetype": "text/x-python",
   "name": "python",
   "nbconvert_exporter": "python",
   "pygments_lexer": "ipython3",
   "version": "3.8.8"
  }
 },
 "nbformat": 4,
 "nbformat_minor": 5
}
